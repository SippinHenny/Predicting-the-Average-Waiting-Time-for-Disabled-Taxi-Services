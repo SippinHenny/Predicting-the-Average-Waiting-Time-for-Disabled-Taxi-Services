{
 "cells": [
  {
   "cell_type": "markdown",
   "metadata": {
    "id": "qsIsGzftJuH9"
   },
   "source": [
    "# 장애인콜택시 대기시간 예측\n",
    "## 단계1.데이터 전처리"
   ]
  },
  {
   "cell_type": "markdown",
   "metadata": {
    "id": "Dh02CX03JuES"
   },
   "source": [
    "## 0.미션\n",
    "\n",
    "* 1.데이터를 탐색하며 정보 획득\n",
    "    * 데이터는 2015-01-01 ~ 2022-12-31 까지의 서울 장애인 콜택시 운행 정보입니다. 우리는 평균대기시간을 예측하고자 합니다. \n",
    "    * 요일, 월, 계절, 연도별 운행 정보에 어떤 주기와 변화가 있는지 탐색해 봅시다.\n",
    "* 2.분석을 위한 데이터 구조 만들기\n",
    "    * 문제정의 : \n",
    "        * 전 날 콜택시 운행이 종료되었을 때, 다음 날 대기시간을 예측하고자 합니다.\n",
    "\n",
    "        * 만약 다음 날 대기시간을 예측할 수 있다면, 일정 범위 내에서 배차를 조절할 수 있을 뿐만 아니라, 향후 교통약자의 이동 편의 증진을 위한 정책 수립 및 개선에 기여할 수 있습니다. \n",
    "    * 이를 위한 데이터 구조를 만들어 봅시다.\n",
    "        * 분석 단위는 일별 데이터 입니다.\n",
    "        * 주어진 데이터 : 장애인 콜택시 운행 정보, 서울시 날씨\n",
    "        * 날씨 데이터는 실제 측정값이지만, 다음 날에 대한 예보 데이터로 간주합니다. \n",
    "            * 예를 들어, \n",
    "                * 2020-12-23 의 날씨 데이터는 전 날(12월22일) 날씨예보 데이터로 간주하여 분석을 수행합니다.\n",
    "                * 2020-12-22일의 장애인 이동 데이터로 23일의 대기시간을 예측해야 하며, 이때 고려할 날씨데이터는 23일 데이터 입니다.\n",
    "        * 장애인 이동 데이터를 기준으로 날씨 데이터를 붙여서 만듭시다.\n",
    "        * 휴무일 데이터는 패키지를 통해서 다운받아 사용합니다.\n",
    "    * Feature Engineering\n",
    "        * 대기시간에 영향을 주는 요인을 도출하고(가설수립) 이를 feature로 생성합시다.\n",
    "        * 주어진 그대로의 데이터가 아닌 새로운 feature를 생성해 봅시다.\n",
    "            * 날짜와 관련된 feature : 요일, 월, 계절 ... \n",
    "            * 시계열 특성이 반영된 feature : 최근 7일간의 평균 대기시간 ...\n",
    "\n",
    "\n"
   ]
  },
  {
   "cell_type": "markdown",
   "metadata": {
    "id": "pp6QgG00zPKL"
   },
   "source": [
    "## 1.환경설정"
   ]
  },
  {
   "cell_type": "markdown",
   "metadata": {
    "id": "stA-MFEZvYUL"
   },
   "source": [
    "* 세부 요구사항\n",
    "    - 경로 설정 : 다음의 두가지 방법 중 하나를 선택하여 폴더를 준비하고 데이터를 로딩하시오.\n",
    "        * 1) 로컬 수행(Ananconda)\n",
    "            * 제공된 압축파일을 다운받아 압축을 풀고\n",
    "            * anaconda의 root directory(보통 C:/Users/< ID > 에 project 폴더를 만들고, 복사해 넣습니다.\n",
    "        * 2) 구글콜랩\n",
    "            * 구글 드라이브 바로 밑에 project 폴더를 만들고, \n",
    "            * 데이터 파일을 복사해 넣습니다.\n",
    "    - 라이브러리 설치 및 로딩\n",
    "        * requirements.txt 파일로 부터 라이브러리 설치\n",
    "    - 기본적으로 필요한 라이브러리를 import 하도록 코드가 작성되어 있습니다. \n",
    "        * 필요하다고 판단되는 라이브러리를 추가하세요."
   ]
  },
  {
   "cell_type": "markdown",
   "metadata": {
    "id": "4FalizaIvrRi"
   },
   "source": [
    "### (1) 경로 설정"
   ]
  },
  {
   "cell_type": "markdown",
   "metadata": {
    "id": "5uNVIDDsvvFv"
   },
   "source": [
    "#### 1) 로컬 수행(Anaconda)\n",
    "* project 폴더에 필요한 파일들을 넣고, 본 파일을 열었다면, 별도 경로 지정이 필요하지 않습니다."
   ]
  },
  {
   "cell_type": "markdown",
   "metadata": {
    "id": "LPy9VO2koOHp"
   },
   "source": [
    "### (2) 라이브러리 설치 및 불러오기"
   ]
  },
  {
   "cell_type": "markdown",
   "metadata": {
    "id": "V1NvAw4CwcDh"
   },
   "source": [
    "#### 1) 라이브러리 로딩"
   ]
  },
  {
   "cell_type": "code",
   "execution_count": 1,
   "metadata": {
    "executionInfo": {
     "elapsed": 1587,
     "status": "ok",
     "timestamp": 1682642920627,
     "user": {
      "displayName": "한기영",
      "userId": "13049187003176135487"
     },
     "user_tz": -540
    },
    "id": "QF5vlqOJzyvV"
   },
   "outputs": [],
   "source": [
    "import pandas as pd\n",
    "import numpy as np\n",
    "import matplotlib.pyplot as plt\n",
    "import seaborn as sns\n",
    "\n",
    "import joblib\n",
    "\n",
    "# 더 필요한 라이브러리를 아래에 추가합니다."
   ]
  },
  {
   "cell_type": "markdown",
   "metadata": {
    "id": "wsLDv9tZc_i1"
   },
   "source": [
    "### (3) 데이터 불러오기\n",
    "* 주어진 데이터셋\n",
    "    * 장애인 콜택시 운행 정보 : open_data.csv\n",
    "    * 날씨 데이터 : weather.csv"
   ]
  },
  {
   "cell_type": "markdown",
   "metadata": {
    "id": "GH3ApIzofYPb"
   },
   "source": [
    "#### 1) 데이터로딩"
   ]
  },
  {
   "cell_type": "code",
   "execution_count": 2,
   "metadata": {
    "executionInfo": {
     "elapsed": 9,
     "status": "ok",
     "timestamp": 1682642921546,
     "user": {
      "displayName": "한기영",
      "userId": "13049187003176135487"
     },
     "user_tz": -540
    },
    "id": "FT_JFnclfcQ4"
   },
   "outputs": [],
   "source": [
    "# 아래에 실습코드를 작성하고 결과를 확인합니다.\n",
    "taxi = pd.read_csv('open_data.csv')\n",
    "weather = pd.read_csv('weather.csv')"
   ]
  },
  {
   "cell_type": "markdown",
   "metadata": {
    "id": "ueRYWzcto1x8"
   },
   "source": [
    "#### 2) 기본 정보 조회"
   ]
  },
  {
   "cell_type": "code",
   "execution_count": 3,
   "metadata": {},
   "outputs": [
    {
     "name": "stdout",
     "output_type": "stream",
     "text": [
      "<class 'pandas.core.frame.DataFrame'>\n",
      "RangeIndex: 2922 entries, 0 to 2921\n",
      "Data columns (total 7 columns):\n",
      " #   Column  Non-Null Count  Dtype  \n",
      "---  ------  --------------  -----  \n",
      " 0   기준일     2922 non-null   object \n",
      " 1   차량운행    2922 non-null   int64  \n",
      " 2   접수건     2922 non-null   int64  \n",
      " 3   탑승건     2922 non-null   int64  \n",
      " 4   평균대기시간  2922 non-null   float64\n",
      " 5   평균요금    2922 non-null   int64  \n",
      " 6   평균승차거리  2922 non-null   int64  \n",
      "dtypes: float64(1), int64(5), object(1)\n",
      "memory usage: 159.9+ KB\n"
     ]
    }
   ],
   "source": [
    "taxi.info()"
   ]
  },
  {
   "cell_type": "code",
   "execution_count": 4,
   "metadata": {},
   "outputs": [
    {
     "name": "stdout",
     "output_type": "stream",
     "text": [
      "<class 'pandas.core.frame.DataFrame'>\n",
      "RangeIndex: 4018 entries, 0 to 4017\n",
      "Data columns (total 7 columns):\n",
      " #   Column           Non-Null Count  Dtype  \n",
      "---  ------           --------------  -----  \n",
      " 0   Date             4018 non-null   object \n",
      " 1   temp_max         4018 non-null   float64\n",
      " 2   temp_min         4018 non-null   float64\n",
      " 3   rain(mm)         4018 non-null   float64\n",
      " 4   humidity_max(%)  4018 non-null   float64\n",
      " 5   humidity_min(%)  4018 non-null   float64\n",
      " 6   sunshine(MJ/m2)  4018 non-null   float64\n",
      "dtypes: float64(6), object(1)\n",
      "memory usage: 219.9+ KB\n"
     ]
    }
   ],
   "source": [
    "weather.info()"
   ]
  },
  {
   "cell_type": "markdown",
   "metadata": {
    "id": "n0VtxEINgi2V"
   },
   "source": [
    "#### 3) 칼럼이름을 영어로 변경\n",
    "* 꼭 필요한 작업은 아니지만, 데이터를 편리하게 다루고 차트에서 불필요한 경고메시지를 띄우지 않게 하기 위해 영문으로 변경하기를 권장합니다.\n"
   ]
  },
  {
   "cell_type": "code",
   "execution_count": 5,
   "metadata": {
    "colab": {
     "base_uri": "https://localhost:8080/",
     "height": 423
    },
    "executionInfo": {
     "elapsed": 28,
     "status": "ok",
     "timestamp": 1682643014158,
     "user": {
      "displayName": "한기영",
      "userId": "13049187003176135487"
     },
     "user_tz": -540
    },
    "id": "Az4HVmSagn0I",
    "outputId": "14a9e7b6-75c2-48de-c5af-066d3bf5a035"
   },
   "outputs": [
    {
     "data": {
      "text/html": [
       "<div>\n",
       "<style scoped>\n",
       "    .dataframe tbody tr th:only-of-type {\n",
       "        vertical-align: middle;\n",
       "    }\n",
       "\n",
       "    .dataframe tbody tr th {\n",
       "        vertical-align: top;\n",
       "    }\n",
       "\n",
       "    .dataframe thead th {\n",
       "        text-align: right;\n",
       "    }\n",
       "</style>\n",
       "<table border=\"1\" class=\"dataframe\">\n",
       "  <thead>\n",
       "    <tr style=\"text-align: right;\">\n",
       "      <th></th>\n",
       "      <th>date</th>\n",
       "      <th>drive</th>\n",
       "      <th>call_num</th>\n",
       "      <th>ride_num</th>\n",
       "      <th>waiting_time</th>\n",
       "      <th>fee</th>\n",
       "      <th>dis</th>\n",
       "    </tr>\n",
       "  </thead>\n",
       "  <tbody>\n",
       "    <tr>\n",
       "      <th>0</th>\n",
       "      <td>2015-01-01</td>\n",
       "      <td>213</td>\n",
       "      <td>1023</td>\n",
       "      <td>924</td>\n",
       "      <td>23.2</td>\n",
       "      <td>2427</td>\n",
       "      <td>10764</td>\n",
       "    </tr>\n",
       "    <tr>\n",
       "      <th>1</th>\n",
       "      <td>2015-01-02</td>\n",
       "      <td>420</td>\n",
       "      <td>3158</td>\n",
       "      <td>2839</td>\n",
       "      <td>17.2</td>\n",
       "      <td>2216</td>\n",
       "      <td>8611</td>\n",
       "    </tr>\n",
       "    <tr>\n",
       "      <th>2</th>\n",
       "      <td>2015-01-03</td>\n",
       "      <td>209</td>\n",
       "      <td>1648</td>\n",
       "      <td>1514</td>\n",
       "      <td>26.2</td>\n",
       "      <td>2377</td>\n",
       "      <td>10198</td>\n",
       "    </tr>\n",
       "    <tr>\n",
       "      <th>3</th>\n",
       "      <td>2015-01-04</td>\n",
       "      <td>196</td>\n",
       "      <td>1646</td>\n",
       "      <td>1526</td>\n",
       "      <td>24.5</td>\n",
       "      <td>2431</td>\n",
       "      <td>10955</td>\n",
       "    </tr>\n",
       "    <tr>\n",
       "      <th>4</th>\n",
       "      <td>2015-01-05</td>\n",
       "      <td>421</td>\n",
       "      <td>4250</td>\n",
       "      <td>3730</td>\n",
       "      <td>26.2</td>\n",
       "      <td>2214</td>\n",
       "      <td>8663</td>\n",
       "    </tr>\n",
       "  </tbody>\n",
       "</table>\n",
       "</div>"
      ],
      "text/plain": [
       "         date  drive  call_num  ride_num  waiting_time   fee    dis\n",
       "0  2015-01-01    213      1023       924          23.2  2427  10764\n",
       "1  2015-01-02    420      3158      2839          17.2  2216   8611\n",
       "2  2015-01-03    209      1648      1514          26.2  2377  10198\n",
       "3  2015-01-04    196      1646      1526          24.5  2431  10955\n",
       "4  2015-01-05    421      4250      3730          26.2  2214   8663"
      ]
     },
     "execution_count": 5,
     "metadata": {},
     "output_type": "execute_result"
    }
   ],
   "source": [
    "# 아래에 실습코드를 작성하고 결과를 확인합니다.\n",
    "taxi_re = taxi.copy()\n",
    "taxi_re.rename(columns = {'기준일' : 'date',\t'차량운행' : 'drive',\t\n",
    "                       '접수건' : 'call_num', '탑승건' : 'ride_num', \n",
    "                       '평균대기시간' : 'waiting_time','평균요금' : 'fee','평균승차거리' : 'dis'}, inplace = True)\n",
    "\n",
    "taxi_re.head()"
   ]
  },
  {
   "cell_type": "markdown",
   "metadata": {
    "id": "vYhLUoRxRSEQ"
   },
   "source": [
    "## 2.데이터 기본 탐색\n",
    "\n",
    "* **세부요구사항**\n",
    "    * 날짜 요소에 따라 각 정보의 패턴을 조회 합니다.\n",
    "        * 일별, 요일별, 주차별, 월별, 연도별\n",
    "        * 접수건, 탑승건, 거리, 요금, 대기시간 등\n",
    "    * 제시된 범위 외에 가능하다면 추가 탐색을 시도합니다."
   ]
  },
  {
   "cell_type": "markdown",
   "metadata": {
    "id": "vY_rPCK5pH-s"
   },
   "source": [
    "### (1) 주기별 분석을 위해서 날짜 변수 추가하기\n",
    "* data를 복사합니다.\n",
    "* 복사한 df에 요일, 주차, 월, 연도 등을 추가합니다."
   ]
  },
  {
   "cell_type": "code",
   "execution_count": 6,
   "metadata": {
    "executionInfo": {
     "elapsed": 28,
     "status": "ok",
     "timestamp": 1682643014160,
     "user": {
      "displayName": "한기영",
      "userId": "13049187003176135487"
     },
     "user_tz": -540
    },
    "id": "2oGkF12Ape-T"
   },
   "outputs": [
    {
     "data": {
      "text/html": [
       "<div>\n",
       "<style scoped>\n",
       "    .dataframe tbody tr th:only-of-type {\n",
       "        vertical-align: middle;\n",
       "    }\n",
       "\n",
       "    .dataframe tbody tr th {\n",
       "        vertical-align: top;\n",
       "    }\n",
       "\n",
       "    .dataframe thead th {\n",
       "        text-align: right;\n",
       "    }\n",
       "</style>\n",
       "<table border=\"1\" class=\"dataframe\">\n",
       "  <thead>\n",
       "    <tr style=\"text-align: right;\">\n",
       "      <th></th>\n",
       "      <th>date</th>\n",
       "      <th>drive</th>\n",
       "      <th>call_num</th>\n",
       "      <th>ride_num</th>\n",
       "      <th>waiting_time</th>\n",
       "      <th>fee</th>\n",
       "      <th>dis</th>\n",
       "      <th>weekday</th>\n",
       "      <th>day</th>\n",
       "      <th>month</th>\n",
       "      <th>year</th>\n",
       "    </tr>\n",
       "  </thead>\n",
       "  <tbody>\n",
       "    <tr>\n",
       "      <th>2917</th>\n",
       "      <td>2022-12-27</td>\n",
       "      <td>669</td>\n",
       "      <td>5635</td>\n",
       "      <td>4654</td>\n",
       "      <td>44.4</td>\n",
       "      <td>2198</td>\n",
       "      <td>8178</td>\n",
       "      <td>화</td>\n",
       "      <td>27</td>\n",
       "      <td>12</td>\n",
       "      <td>2022</td>\n",
       "    </tr>\n",
       "    <tr>\n",
       "      <th>2918</th>\n",
       "      <td>2022-12-28</td>\n",
       "      <td>607</td>\n",
       "      <td>5654</td>\n",
       "      <td>4648</td>\n",
       "      <td>44.8</td>\n",
       "      <td>2161</td>\n",
       "      <td>7882</td>\n",
       "      <td>수</td>\n",
       "      <td>28</td>\n",
       "      <td>12</td>\n",
       "      <td>2022</td>\n",
       "    </tr>\n",
       "    <tr>\n",
       "      <th>2919</th>\n",
       "      <td>2022-12-29</td>\n",
       "      <td>581</td>\n",
       "      <td>5250</td>\n",
       "      <td>4247</td>\n",
       "      <td>52.5</td>\n",
       "      <td>2229</td>\n",
       "      <td>8433</td>\n",
       "      <td>목</td>\n",
       "      <td>29</td>\n",
       "      <td>12</td>\n",
       "      <td>2022</td>\n",
       "    </tr>\n",
       "    <tr>\n",
       "      <th>2920</th>\n",
       "      <td>2022-12-30</td>\n",
       "      <td>600</td>\n",
       "      <td>5293</td>\n",
       "      <td>4200</td>\n",
       "      <td>38.3</td>\n",
       "      <td>2183</td>\n",
       "      <td>8155</td>\n",
       "      <td>금</td>\n",
       "      <td>30</td>\n",
       "      <td>12</td>\n",
       "      <td>2022</td>\n",
       "    </tr>\n",
       "    <tr>\n",
       "      <th>2921</th>\n",
       "      <td>2022-12-31</td>\n",
       "      <td>263</td>\n",
       "      <td>2167</td>\n",
       "      <td>1806</td>\n",
       "      <td>33.7</td>\n",
       "      <td>2318</td>\n",
       "      <td>9435</td>\n",
       "      <td>토</td>\n",
       "      <td>31</td>\n",
       "      <td>12</td>\n",
       "      <td>2022</td>\n",
       "    </tr>\n",
       "  </tbody>\n",
       "</table>\n",
       "</div>"
      ],
      "text/plain": [
       "           date  drive  call_num  ride_num  waiting_time   fee   dis weekday  \\\n",
       "2917 2022-12-27    669      5635      4654          44.4  2198  8178       화   \n",
       "2918 2022-12-28    607      5654      4648          44.8  2161  7882       수   \n",
       "2919 2022-12-29    581      5250      4247          52.5  2229  8433       목   \n",
       "2920 2022-12-30    600      5293      4200          38.3  2183  8155       금   \n",
       "2921 2022-12-31    263      2167      1806          33.7  2318  9435       토   \n",
       "\n",
       "      day  month  year  \n",
       "2917   27     12  2022  \n",
       "2918   28     12  2022  \n",
       "2919   29     12  2022  \n",
       "2920   30     12  2022  \n",
       "2921   31     12  2022  "
      ]
     },
     "execution_count": 6,
     "metadata": {},
     "output_type": "execute_result"
    }
   ],
   "source": [
    "# 아래에 실습코드를 작성하고 결과를 확인합니다.\n",
    "taxi_re['date'] = pd.to_datetime(taxi_re['date'])\n",
    "taxi_re['weekday'] = taxi_re['date'].dt.weekday\n",
    "\n",
    "# 요일 추가\n",
    "taxi_re['weekday'] = taxi_re['weekday'].map({0: '월', 1: '화', 2: '수', 3: '목', 4: '금', 5: '토', 6: '일'})\n",
    "\n",
    "taxi_re['day'] = taxi_re['date'].dt.day\n",
    "taxi_re['month'] = taxi_re['date'].dt.month\n",
    "taxi_re['year'] = taxi_re['date'].dt.year\n",
    "taxi_re.tail()"
   ]
  },
  {
   "cell_type": "markdown",
   "metadata": {
    "id": "wB5ZVhHguej0"
   },
   "source": [
    "* 차량 운행수"
   ]
  },
  {
   "cell_type": "code",
   "execution_count": 7,
   "metadata": {
    "executionInfo": {
     "elapsed": 24,
     "status": "ok",
     "timestamp": 1682643021359,
     "user": {
      "displayName": "한기영",
      "userId": "13049187003176135487"
     },
     "user_tz": -540
    },
    "id": "pWAB_flnuej7"
   },
   "outputs": [
    {
     "data": {
      "text/plain": [
       "month\n",
       "1    379.286290\n",
       "2    373.486726\n",
       "3    398.758065\n",
       "4    416.187500\n",
       "5    413.556452\n",
       "Name: drive, dtype: float64"
      ]
     },
     "execution_count": 7,
     "metadata": {},
     "output_type": "execute_result"
    }
   ],
   "source": [
    "# 아래에 실습코드를 작성하고 결과를 확인합니다.\n",
    "month_drive = taxi_re.groupby('month')['drive'].mean()\n",
    "month_drive.head()"
   ]
  },
  {
   "cell_type": "markdown",
   "metadata": {
    "id": "eUEbCvtjuej7"
   },
   "source": [
    "* 접수건, 탑승건"
   ]
  },
  {
   "cell_type": "code",
   "execution_count": 92,
   "metadata": {
    "executionInfo": {
     "elapsed": 22,
     "status": "ok",
     "timestamp": 1682643021360,
     "user": {
      "displayName": "한기영",
      "userId": "13049187003176135487"
     },
     "user_tz": -540
    },
    "id": "MtJxpirguej7"
   },
   "outputs": [
    {
     "data": {
      "text/plain": [
       "month\n",
       "1     3681.826613\n",
       "2     3582.097345\n",
       "3     3691.330645\n",
       "4     3964.479167\n",
       "5     3910.572581\n",
       "6     4001.304167\n",
       "7     4099.637097\n",
       "8     4014.963710\n",
       "9     3962.508333\n",
       "10    4007.709677\n",
       "11    4243.991667\n",
       "12    3931.556452\n",
       "Name: call_num, dtype: float64"
      ]
     },
     "execution_count": 92,
     "metadata": {},
     "output_type": "execute_result"
    }
   ],
   "source": [
    "# 아래에 실습코드를 작성하고 결과를 확인합니다.\n",
    "month_call_num = taxi_re.groupby('month')['call_num'].mean()\n",
    "month_call_num"
   ]
  },
  {
   "cell_type": "code",
   "execution_count": 93,
   "metadata": {
    "colab": {
     "base_uri": "https://localhost:8080/",
     "height": 0
    },
    "executionInfo": {
     "elapsed": 710,
     "status": "ok",
     "timestamp": 1682643022049,
     "user": {
      "displayName": "한기영",
      "userId": "13049187003176135487"
     },
     "user_tz": -540
    },
    "id": "1y5xhCakuej8",
    "outputId": "e7523a1b-fb19-4f79-f011-107ae35bcf4f"
   },
   "outputs": [
    {
     "data": {
      "text/plain": [
       "month\n",
       "1    3092.262097\n",
       "2    3032.075221\n",
       "3    3168.822581\n",
       "4    3358.558333\n",
       "5    3278.435484\n",
       "Name: ride_num, dtype: float64"
      ]
     },
     "execution_count": 93,
     "metadata": {},
     "output_type": "execute_result"
    }
   ],
   "source": [
    "# 아래에 실습코드를 작성하고 결과를 확인합니다.\n",
    "month_ride_num = taxi_re.groupby('month')['ride_num'].mean()\n",
    "month_ride_num.head()"
   ]
  },
  {
   "cell_type": "markdown",
   "metadata": {
    "id": "PLQheTtguej8"
   },
   "source": [
    "* 대기시간"
   ]
  },
  {
   "cell_type": "code",
   "execution_count": 94,
   "metadata": {
    "executionInfo": {
     "elapsed": 8,
     "status": "ok",
     "timestamp": 1682643022050,
     "user": {
      "displayName": "한기영",
      "userId": "13049187003176135487"
     },
     "user_tz": -540
    },
    "id": "syVa5cC5uej8"
   },
   "outputs": [
    {
     "data": {
      "text/plain": [
       "month\n",
       "1     33.393952\n",
       "2     34.419469\n",
       "3     35.182258\n",
       "4     39.628750\n",
       "5     41.181452\n",
       "6     40.381667\n",
       "7     40.033468\n",
       "8     38.568952\n",
       "9     42.364167\n",
       "10    44.480242\n",
       "11    47.063333\n",
       "12    46.713306\n",
       "Name: waiting_time, dtype: float64"
      ]
     },
     "execution_count": 94,
     "metadata": {},
     "output_type": "execute_result"
    }
   ],
   "source": [
    "# 아래에 실습코드를 작성하고 결과를 확인합니다.\n",
    "month_waiting_time = taxi_re.groupby('month')['waiting_time'].mean()\n",
    "month_waiting_time"
   ]
  },
  {
   "cell_type": "markdown",
   "metadata": {
    "id": "yylWmAExuej8"
   },
   "source": [
    "* 운임"
   ]
  },
  {
   "cell_type": "code",
   "execution_count": 95,
   "metadata": {
    "executionInfo": {
     "elapsed": 17,
     "status": "ok",
     "timestamp": 1682643022829,
     "user": {
      "displayName": "한기영",
      "userId": "13049187003176135487"
     },
     "user_tz": -540
    },
    "id": "d_QEZGSBuej8"
   },
   "outputs": [
    {
     "data": {
      "text/plain": [
       "month\n",
       "1    2279.616935\n",
       "2    2296.623894\n",
       "3    2291.600806\n",
       "4    2310.712500\n",
       "5    2326.209677\n",
       "Name: fee, dtype: float64"
      ]
     },
     "execution_count": 95,
     "metadata": {},
     "output_type": "execute_result"
    }
   ],
   "source": [
    "# 아래에 실습코드를 작성하고 결과를 확인합니다.\n",
    "month_fee = taxi_re.groupby('month')['fee'].mean()\n",
    "month_fee.head()"
   ]
  },
  {
   "cell_type": "markdown",
   "metadata": {
    "id": "apAOww4vuej9"
   },
   "source": [
    "* 이동거리"
   ]
  },
  {
   "cell_type": "code",
   "execution_count": 96,
   "metadata": {
    "executionInfo": {
     "elapsed": 15,
     "status": "ok",
     "timestamp": 1682643022831,
     "user": {
      "displayName": "한기영",
      "userId": "13049187003176135487"
     },
     "user_tz": -540
    },
    "id": "0tGeb8ikuej9"
   },
   "outputs": [
    {
     "data": {
      "text/plain": [
       "month\n",
       "1    9048.161290\n",
       "2    9221.039823\n",
       "3    9129.588710\n",
       "4    9313.458333\n",
       "5    9462.447581\n",
       "Name: dis, dtype: float64"
      ]
     },
     "execution_count": 96,
     "metadata": {},
     "output_type": "execute_result"
    }
   ],
   "source": [
    "# 아래에 실습코드를 작성하고 결과를 확인합니다.\n",
    "month_dis = taxi_re.groupby('month')['dis'].mean()\n",
    "month_dis.head()"
   ]
  },
  {
   "cell_type": "markdown",
   "metadata": {
    "id": "PHJYpdcuuw3B"
   },
   "source": [
    "* 차량 운행수"
   ]
  },
  {
   "cell_type": "code",
   "execution_count": 97,
   "metadata": {
    "executionInfo": {
     "elapsed": 18,
     "status": "ok",
     "timestamp": 1682643023568,
     "user": {
      "displayName": "한기영",
      "userId": "13049187003176135487"
     },
     "user_tz": -540
    },
    "id": "OhRmKpZiuw3C"
   },
   "outputs": [
    {
     "data": {
      "text/plain": [
       "year\n",
       "2015    381.468493\n",
       "2016    390.314208\n",
       "2017    405.397260\n",
       "2018    397.758904\n",
       "2019    399.068493\n",
       "2020    416.521858\n",
       "2021    468.271233\n",
       "2022    490.898630\n",
       "Name: drive, dtype: float64"
      ]
     },
     "execution_count": 97,
     "metadata": {},
     "output_type": "execute_result"
    }
   ],
   "source": [
    "# 아래에 실습코드를 작성하고 결과를 확인합니다.\n",
    "year_drive = taxi_re.groupby('year')['drive'].mean()\n",
    "year_drive"
   ]
  },
  {
   "cell_type": "markdown",
   "metadata": {
    "id": "31V3g_cquw3C"
   },
   "source": [
    "* 접수건, 탑승건"
   ]
  },
  {
   "cell_type": "code",
   "execution_count": 98,
   "metadata": {
    "executionInfo": {
     "elapsed": 15,
     "status": "ok",
     "timestamp": 1682643023569,
     "user": {
      "displayName": "한기영",
      "userId": "13049187003176135487"
     },
     "user_tz": -540
    },
    "id": "5_3Pb2s8uw3C"
   },
   "outputs": [
    {
     "data": {
      "text/plain": [
       "year\n",
       "2015    3750.531507\n",
       "2016    4005.087432\n",
       "2017    4184.745205\n",
       "2018    4077.473973\n",
       "2019    4104.358904\n",
       "2020    3137.480874\n",
       "2021    3796.821918\n",
       "2022    4350.304110\n",
       "Name: call_num, dtype: float64"
      ]
     },
     "execution_count": 98,
     "metadata": {},
     "output_type": "execute_result"
    }
   ],
   "source": [
    "# 아래에 실습코드를 작성하고 결과를 확인합니다.\n",
    "year_call_num = taxi_re.groupby('year')['call_num'].mean()\n",
    "year_call_num"
   ]
  },
  {
   "cell_type": "code",
   "execution_count": 99,
   "metadata": {
    "colab": {
     "base_uri": "https://localhost:8080/",
     "height": 0
    },
    "executionInfo": {
     "elapsed": 888,
     "status": "ok",
     "timestamp": 1682643024443,
     "user": {
      "displayName": "한기영",
      "userId": "13049187003176135487"
     },
     "user_tz": -540
    },
    "id": "KMGNajAMuw3C",
    "outputId": "8f351e0f-b3b9-4f2d-d95c-6fc995e12e3d"
   },
   "outputs": [
    {
     "data": {
      "text/plain": [
       "year\n",
       "2015    3268.673973\n",
       "2016    3418.183060\n",
       "2017    3471.709589\n",
       "2018    3209.380822\n",
       "2019    3230.279452\n",
       "2020    2656.314208\n",
       "2021    3344.109589\n",
       "2022    3673.863014\n",
       "Name: ride_num, dtype: float64"
      ]
     },
     "execution_count": 99,
     "metadata": {},
     "output_type": "execute_result"
    }
   ],
   "source": [
    "# 아래에 실습코드를 작성하고 결과를 확인합니다.\n",
    "year_ride_num = taxi_re.groupby('year')['ride_num'].mean()\n",
    "year_ride_num"
   ]
  },
  {
   "cell_type": "code",
   "execution_count": 100,
   "metadata": {},
   "outputs": [
    {
     "data": {
      "text/plain": [
       "year\n",
       "2015    34.059452\n",
       "2016    38.272404\n",
       "2017    44.143014\n",
       "2018    56.322192\n",
       "2019    53.455616\n",
       "2020    28.045082\n",
       "2021    30.720822\n",
       "2022    37.466027\n",
       "Name: waiting_time, dtype: float64"
      ]
     },
     "execution_count": 100,
     "metadata": {},
     "output_type": "execute_result"
    }
   ],
   "source": [
    "year_waiting_time = taxi_re.groupby('year')['waiting_time'].mean()\n",
    "year_waiting_time"
   ]
  },
  {
   "cell_type": "markdown",
   "metadata": {
    "id": "TO79xpdXz0St"
   },
   "source": [
    "## 3.데이터 구조 만들기\n",
    "\n",
    "* **세부요구사항**\n",
    "    * 조건 : \n",
    "        * 목표 : 전날 저녁, 다음날 평균 대기시간을 예측하고자 합니다.\n",
    "        * 날씨 데이터는 실제 측정값이지만, 다음 날에 대한 예보 데이터로 간주합니다. \n",
    "            * 예를 들어, \n",
    "                * 2020-12-23 의 날씨 데이터는 전날(12월22일) 날씨예보 데이터로 간주하여 분석을 수행합니다.\n",
    "                * 2020-12-22일의 장애인 이동 데이터로 23일의 대기시간을 예측해야 하며, 이때 고려할 날씨데이터는 23일 데이터 입니다.\n",
    "    * 장애인 이동 데이터를 기준으로 날씨 데이터를 붙입니다."
   ]
  },
  {
   "cell_type": "markdown",
   "metadata": {
    "id": "ftyolqe60QcQ"
   },
   "source": [
    "### (1) target 만들기\n",
    "* 예측하는 날짜, 대기시간(target)으로 기준을 잡습니다."
   ]
  },
  {
   "cell_type": "code",
   "execution_count": 8,
   "metadata": {
    "colab": {
     "base_uri": "https://localhost:8080/",
     "height": 423
    },
    "executionInfo": {
     "elapsed": 30,
     "status": "ok",
     "timestamp": 1682643024445,
     "user": {
      "displayName": "한기영",
      "userId": "13049187003176135487"
     },
     "user_tz": -540
    },
    "id": "p6YxTMCg0ZWf",
    "outputId": "b0750adb-2042-4151-fa6d-58efae1a8a62"
   },
   "outputs": [],
   "source": [
    "# 아래에 실습코드를 작성하고 결과를 확인합니다.\n",
    "# 익일의 대기시간(waiting time)을 오늘의 데이터를 활용하여 예측 해야하는 대상(target)으로 설정\n",
    "target = 'waiting_time'"
   ]
  },
  {
   "cell_type": "markdown",
   "metadata": {
    "id": "DYUq-0NRUCjE"
   },
   "source": [
    "### (2) 날씨 데이터 붙이기\n",
    "* merge를 활용합니다. 기준은 운행정보 입니다."
   ]
  },
  {
   "cell_type": "code",
   "execution_count": 9,
   "metadata": {},
   "outputs": [
    {
     "data": {
      "text/html": [
       "<div>\n",
       "<style scoped>\n",
       "    .dataframe tbody tr th:only-of-type {\n",
       "        vertical-align: middle;\n",
       "    }\n",
       "\n",
       "    .dataframe tbody tr th {\n",
       "        vertical-align: top;\n",
       "    }\n",
       "\n",
       "    .dataframe thead th {\n",
       "        text-align: right;\n",
       "    }\n",
       "</style>\n",
       "<table border=\"1\" class=\"dataframe\">\n",
       "  <thead>\n",
       "    <tr style=\"text-align: right;\">\n",
       "      <th></th>\n",
       "      <th>date</th>\n",
       "      <th>temp_max</th>\n",
       "      <th>temp_min</th>\n",
       "      <th>rain(mm)</th>\n",
       "      <th>humidity_max(%)</th>\n",
       "      <th>humidity_min(%)</th>\n",
       "      <th>sunshine(MJ/m2)</th>\n",
       "    </tr>\n",
       "  </thead>\n",
       "  <tbody>\n",
       "    <tr>\n",
       "      <th>4013</th>\n",
       "      <td>2022-12-27</td>\n",
       "      <td>3.0</td>\n",
       "      <td>-7.3</td>\n",
       "      <td>0.0</td>\n",
       "      <td>86.0</td>\n",
       "      <td>51.0</td>\n",
       "      <td>10.25</td>\n",
       "    </tr>\n",
       "    <tr>\n",
       "      <th>4014</th>\n",
       "      <td>2022-12-28</td>\n",
       "      <td>-0.3</td>\n",
       "      <td>-5.4</td>\n",
       "      <td>0.1</td>\n",
       "      <td>92.0</td>\n",
       "      <td>40.0</td>\n",
       "      <td>10.86</td>\n",
       "    </tr>\n",
       "    <tr>\n",
       "      <th>4015</th>\n",
       "      <td>2022-12-29</td>\n",
       "      <td>1.7</td>\n",
       "      <td>-7.8</td>\n",
       "      <td>0.0</td>\n",
       "      <td>71.0</td>\n",
       "      <td>34.0</td>\n",
       "      <td>10.88</td>\n",
       "    </tr>\n",
       "    <tr>\n",
       "      <th>4016</th>\n",
       "      <td>2022-12-30</td>\n",
       "      <td>2.1</td>\n",
       "      <td>-4.0</td>\n",
       "      <td>0.0</td>\n",
       "      <td>87.0</td>\n",
       "      <td>38.0</td>\n",
       "      <td>10.84</td>\n",
       "    </tr>\n",
       "    <tr>\n",
       "      <th>4017</th>\n",
       "      <td>2022-12-31</td>\n",
       "      <td>-4.4</td>\n",
       "      <td>-4.4</td>\n",
       "      <td>0.0</td>\n",
       "      <td>66.0</td>\n",
       "      <td>66.0</td>\n",
       "      <td>0.00</td>\n",
       "    </tr>\n",
       "  </tbody>\n",
       "</table>\n",
       "</div>"
      ],
      "text/plain": [
       "            date  temp_max  temp_min  rain(mm)  humidity_max(%)  \\\n",
       "4013  2022-12-27       3.0      -7.3       0.0             86.0   \n",
       "4014  2022-12-28      -0.3      -5.4       0.1             92.0   \n",
       "4015  2022-12-29       1.7      -7.8       0.0             71.0   \n",
       "4016  2022-12-30       2.1      -4.0       0.0             87.0   \n",
       "4017  2022-12-31      -4.4      -4.4       0.0             66.0   \n",
       "\n",
       "      humidity_min(%)  sunshine(MJ/m2)  \n",
       "4013             51.0            10.25  \n",
       "4014             40.0            10.86  \n",
       "4015             34.0            10.88  \n",
       "4016             38.0            10.84  \n",
       "4017             66.0             0.00  "
      ]
     },
     "execution_count": 9,
     "metadata": {},
     "output_type": "execute_result"
    }
   ],
   "source": [
    "weather.rename(columns = {'Date' : 'date'}, inplace = True)\n",
    "weather.tail()"
   ]
  },
  {
   "cell_type": "code",
   "execution_count": 10,
   "metadata": {},
   "outputs": [
    {
     "data": {
      "text/html": [
       "<div>\n",
       "<style scoped>\n",
       "    .dataframe tbody tr th:only-of-type {\n",
       "        vertical-align: middle;\n",
       "    }\n",
       "\n",
       "    .dataframe tbody tr th {\n",
       "        vertical-align: top;\n",
       "    }\n",
       "\n",
       "    .dataframe thead th {\n",
       "        text-align: right;\n",
       "    }\n",
       "</style>\n",
       "<table border=\"1\" class=\"dataframe\">\n",
       "  <thead>\n",
       "    <tr style=\"text-align: right;\">\n",
       "      <th></th>\n",
       "      <th>date</th>\n",
       "      <th>drive</th>\n",
       "      <th>call_num</th>\n",
       "      <th>ride_num</th>\n",
       "      <th>waiting_time</th>\n",
       "      <th>fee</th>\n",
       "      <th>dis</th>\n",
       "      <th>weekday</th>\n",
       "      <th>day</th>\n",
       "      <th>month</th>\n",
       "      <th>year</th>\n",
       "      <th>temp_max</th>\n",
       "      <th>temp_min</th>\n",
       "      <th>rain(mm)</th>\n",
       "      <th>humidity_max(%)</th>\n",
       "      <th>humidity_min(%)</th>\n",
       "      <th>sunshine(MJ/m2)</th>\n",
       "    </tr>\n",
       "  </thead>\n",
       "  <tbody>\n",
       "    <tr>\n",
       "      <th>0</th>\n",
       "      <td>2015-01-01</td>\n",
       "      <td>213</td>\n",
       "      <td>1023</td>\n",
       "      <td>924</td>\n",
       "      <td>23.2</td>\n",
       "      <td>2427</td>\n",
       "      <td>10764</td>\n",
       "      <td>목</td>\n",
       "      <td>1</td>\n",
       "      <td>1</td>\n",
       "      <td>2015</td>\n",
       "      <td>-4.3</td>\n",
       "      <td>-9.8</td>\n",
       "      <td>0.0</td>\n",
       "      <td>52.0</td>\n",
       "      <td>33.0</td>\n",
       "      <td>9.79</td>\n",
       "    </tr>\n",
       "    <tr>\n",
       "      <th>1</th>\n",
       "      <td>2015-01-02</td>\n",
       "      <td>420</td>\n",
       "      <td>3158</td>\n",
       "      <td>2839</td>\n",
       "      <td>17.2</td>\n",
       "      <td>2216</td>\n",
       "      <td>8611</td>\n",
       "      <td>금</td>\n",
       "      <td>2</td>\n",
       "      <td>1</td>\n",
       "      <td>2015</td>\n",
       "      <td>-2.0</td>\n",
       "      <td>-8.9</td>\n",
       "      <td>0.0</td>\n",
       "      <td>63.0</td>\n",
       "      <td>28.0</td>\n",
       "      <td>9.07</td>\n",
       "    </tr>\n",
       "    <tr>\n",
       "      <th>2</th>\n",
       "      <td>2015-01-03</td>\n",
       "      <td>209</td>\n",
       "      <td>1648</td>\n",
       "      <td>1514</td>\n",
       "      <td>26.2</td>\n",
       "      <td>2377</td>\n",
       "      <td>10198</td>\n",
       "      <td>토</td>\n",
       "      <td>3</td>\n",
       "      <td>1</td>\n",
       "      <td>2015</td>\n",
       "      <td>2.4</td>\n",
       "      <td>-9.2</td>\n",
       "      <td>0.0</td>\n",
       "      <td>73.0</td>\n",
       "      <td>37.0</td>\n",
       "      <td>8.66</td>\n",
       "    </tr>\n",
       "    <tr>\n",
       "      <th>3</th>\n",
       "      <td>2015-01-04</td>\n",
       "      <td>196</td>\n",
       "      <td>1646</td>\n",
       "      <td>1526</td>\n",
       "      <td>24.5</td>\n",
       "      <td>2431</td>\n",
       "      <td>10955</td>\n",
       "      <td>일</td>\n",
       "      <td>4</td>\n",
       "      <td>1</td>\n",
       "      <td>2015</td>\n",
       "      <td>8.2</td>\n",
       "      <td>0.2</td>\n",
       "      <td>0.0</td>\n",
       "      <td>89.0</td>\n",
       "      <td>58.0</td>\n",
       "      <td>5.32</td>\n",
       "    </tr>\n",
       "    <tr>\n",
       "      <th>4</th>\n",
       "      <td>2015-01-05</td>\n",
       "      <td>421</td>\n",
       "      <td>4250</td>\n",
       "      <td>3730</td>\n",
       "      <td>26.2</td>\n",
       "      <td>2214</td>\n",
       "      <td>8663</td>\n",
       "      <td>월</td>\n",
       "      <td>5</td>\n",
       "      <td>1</td>\n",
       "      <td>2015</td>\n",
       "      <td>7.9</td>\n",
       "      <td>-0.9</td>\n",
       "      <td>0.0</td>\n",
       "      <td>95.0</td>\n",
       "      <td>52.0</td>\n",
       "      <td>6.48</td>\n",
       "    </tr>\n",
       "  </tbody>\n",
       "</table>\n",
       "</div>"
      ],
      "text/plain": [
       "        date  drive  call_num  ride_num  waiting_time   fee    dis weekday  \\\n",
       "0 2015-01-01    213      1023       924          23.2  2427  10764       목   \n",
       "1 2015-01-02    420      3158      2839          17.2  2216   8611       금   \n",
       "2 2015-01-03    209      1648      1514          26.2  2377  10198       토   \n",
       "3 2015-01-04    196      1646      1526          24.5  2431  10955       일   \n",
       "4 2015-01-05    421      4250      3730          26.2  2214   8663       월   \n",
       "\n",
       "   day  month  year  temp_max  temp_min  rain(mm)  humidity_max(%)  \\\n",
       "0    1      1  2015      -4.3      -9.8       0.0             52.0   \n",
       "1    2      1  2015      -2.0      -8.9       0.0             63.0   \n",
       "2    3      1  2015       2.4      -9.2       0.0             73.0   \n",
       "3    4      1  2015       8.2       0.2       0.0             89.0   \n",
       "4    5      1  2015       7.9      -0.9       0.0             95.0   \n",
       "\n",
       "   humidity_min(%)  sunshine(MJ/m2)  \n",
       "0             33.0             9.79  \n",
       "1             28.0             9.07  \n",
       "2             37.0             8.66  \n",
       "3             58.0             5.32  \n",
       "4             52.0             6.48  "
      ]
     },
     "execution_count": 10,
     "metadata": {},
     "output_type": "execute_result"
    }
   ],
   "source": [
    "# 아래에 실습코드를 작성하고 결과를 확인합니다.\n",
    "# 익일의 실제 날씨 데이터를 전일에 발표된 예보데이터로 판단\n",
    "weather['date'] = pd.to_datetime(weather['date'])\n",
    "data = pd.merge(taxi_re, weather, on = 'date', how = 'inner')\n",
    "data.head()"
   ]
  },
  {
   "cell_type": "code",
   "execution_count": 11,
   "metadata": {
    "colab": {
     "base_uri": "https://localhost:8080/",
     "height": 661
    },
    "executionInfo": {
     "elapsed": 29,
     "status": "ok",
     "timestamp": 1682643024446,
     "user": {
      "displayName": "한기영",
      "userId": "13049187003176135487"
     },
     "user_tz": -540
    },
    "id": "40yEcHs4Vcje",
    "outputId": "13eff934-019f-475c-f1af-975fda3c3198"
   },
   "outputs": [
    {
     "data": {
      "text/html": [
       "<div>\n",
       "<style scoped>\n",
       "    .dataframe tbody tr th:only-of-type {\n",
       "        vertical-align: middle;\n",
       "    }\n",
       "\n",
       "    .dataframe tbody tr th {\n",
       "        vertical-align: top;\n",
       "    }\n",
       "\n",
       "    .dataframe thead th {\n",
       "        text-align: right;\n",
       "    }\n",
       "</style>\n",
       "<table border=\"1\" class=\"dataframe\">\n",
       "  <thead>\n",
       "    <tr style=\"text-align: right;\">\n",
       "      <th></th>\n",
       "      <th>date</th>\n",
       "      <th>drive</th>\n",
       "      <th>call_num</th>\n",
       "      <th>ride_num</th>\n",
       "      <th>waiting_time</th>\n",
       "      <th>fee</th>\n",
       "      <th>dis</th>\n",
       "      <th>weekday</th>\n",
       "      <th>day</th>\n",
       "      <th>month</th>\n",
       "      <th>year</th>\n",
       "      <th>temp_max</th>\n",
       "      <th>temp_min</th>\n",
       "      <th>rain(mm)</th>\n",
       "      <th>humidity_max(%)</th>\n",
       "      <th>humidity_min(%)</th>\n",
       "      <th>sunshine(MJ/m2)</th>\n",
       "    </tr>\n",
       "  </thead>\n",
       "  <tbody>\n",
       "    <tr>\n",
       "      <th>2917</th>\n",
       "      <td>2022-12-27</td>\n",
       "      <td>669</td>\n",
       "      <td>5635</td>\n",
       "      <td>4654</td>\n",
       "      <td>44.4</td>\n",
       "      <td>2198</td>\n",
       "      <td>8178</td>\n",
       "      <td>화</td>\n",
       "      <td>27</td>\n",
       "      <td>12</td>\n",
       "      <td>2022</td>\n",
       "      <td>-0.3</td>\n",
       "      <td>-5.4</td>\n",
       "      <td>0.1</td>\n",
       "      <td>92.0</td>\n",
       "      <td>40.0</td>\n",
       "      <td>10.86</td>\n",
       "    </tr>\n",
       "    <tr>\n",
       "      <th>2918</th>\n",
       "      <td>2022-12-28</td>\n",
       "      <td>607</td>\n",
       "      <td>5654</td>\n",
       "      <td>4648</td>\n",
       "      <td>44.8</td>\n",
       "      <td>2161</td>\n",
       "      <td>7882</td>\n",
       "      <td>수</td>\n",
       "      <td>28</td>\n",
       "      <td>12</td>\n",
       "      <td>2022</td>\n",
       "      <td>1.7</td>\n",
       "      <td>-7.8</td>\n",
       "      <td>0.0</td>\n",
       "      <td>71.0</td>\n",
       "      <td>34.0</td>\n",
       "      <td>10.88</td>\n",
       "    </tr>\n",
       "    <tr>\n",
       "      <th>2919</th>\n",
       "      <td>2022-12-29</td>\n",
       "      <td>581</td>\n",
       "      <td>5250</td>\n",
       "      <td>4247</td>\n",
       "      <td>52.5</td>\n",
       "      <td>2229</td>\n",
       "      <td>8433</td>\n",
       "      <td>목</td>\n",
       "      <td>29</td>\n",
       "      <td>12</td>\n",
       "      <td>2022</td>\n",
       "      <td>2.1</td>\n",
       "      <td>-4.0</td>\n",
       "      <td>0.0</td>\n",
       "      <td>87.0</td>\n",
       "      <td>38.0</td>\n",
       "      <td>10.84</td>\n",
       "    </tr>\n",
       "    <tr>\n",
       "      <th>2920</th>\n",
       "      <td>2022-12-30</td>\n",
       "      <td>600</td>\n",
       "      <td>5293</td>\n",
       "      <td>4200</td>\n",
       "      <td>38.3</td>\n",
       "      <td>2183</td>\n",
       "      <td>8155</td>\n",
       "      <td>금</td>\n",
       "      <td>30</td>\n",
       "      <td>12</td>\n",
       "      <td>2022</td>\n",
       "      <td>-4.4</td>\n",
       "      <td>-4.4</td>\n",
       "      <td>0.0</td>\n",
       "      <td>66.0</td>\n",
       "      <td>66.0</td>\n",
       "      <td>0.00</td>\n",
       "    </tr>\n",
       "    <tr>\n",
       "      <th>2921</th>\n",
       "      <td>2022-12-31</td>\n",
       "      <td>263</td>\n",
       "      <td>2167</td>\n",
       "      <td>1806</td>\n",
       "      <td>33.7</td>\n",
       "      <td>2318</td>\n",
       "      <td>9435</td>\n",
       "      <td>토</td>\n",
       "      <td>31</td>\n",
       "      <td>12</td>\n",
       "      <td>2022</td>\n",
       "      <td>NaN</td>\n",
       "      <td>NaN</td>\n",
       "      <td>NaN</td>\n",
       "      <td>NaN</td>\n",
       "      <td>NaN</td>\n",
       "      <td>NaN</td>\n",
       "    </tr>\n",
       "  </tbody>\n",
       "</table>\n",
       "</div>"
      ],
      "text/plain": [
       "           date  drive  call_num  ride_num  waiting_time   fee   dis weekday  \\\n",
       "2917 2022-12-27    669      5635      4654          44.4  2198  8178       화   \n",
       "2918 2022-12-28    607      5654      4648          44.8  2161  7882       수   \n",
       "2919 2022-12-29    581      5250      4247          52.5  2229  8433       목   \n",
       "2920 2022-12-30    600      5293      4200          38.3  2183  8155       금   \n",
       "2921 2022-12-31    263      2167      1806          33.7  2318  9435       토   \n",
       "\n",
       "      day  month  year  temp_max  temp_min  rain(mm)  humidity_max(%)  \\\n",
       "2917   27     12  2022      -0.3      -5.4       0.1             92.0   \n",
       "2918   28     12  2022       1.7      -7.8       0.0             71.0   \n",
       "2919   29     12  2022       2.1      -4.0       0.0             87.0   \n",
       "2920   30     12  2022      -4.4      -4.4       0.0             66.0   \n",
       "2921   31     12  2022       NaN       NaN       NaN              NaN   \n",
       "\n",
       "      humidity_min(%)  sunshine(MJ/m2)  \n",
       "2917             40.0            10.86  \n",
       "2918             34.0            10.88  \n",
       "2919             38.0            10.84  \n",
       "2920             66.0             0.00  \n",
       "2921              NaN              NaN  "
      ]
     },
     "execution_count": 11,
     "metadata": {},
     "output_type": "execute_result"
    }
   ],
   "source": [
    "# 아래에 실습코드를 작성하고 결과를 확인합니다.\n",
    "# 날씨 데이터를 한 줄씩 아래로 밀기\n",
    "data_modi = data.copy()\n",
    "shift_col = ['temp_max','temp_min', 'rain(mm)', 'humidity_max(%)', 'humidity_min(%)', 'sunshine(MJ/m2)']\n",
    "data_modi[shift_col] = data[shift_col].shift(-1)\n",
    "data_modi.tail()"
   ]
  },
  {
   "cell_type": "markdown",
   "metadata": {
    "id": "jj9Hs5bcX5OT"
   },
   "source": [
    "### (3) 새로운 feature를 생성해 봅시다.\n",
    "* 날짜와 관련된 변수 추가하기 : 요일, 월, 계절, 연도\n",
    "* 그외 새로운 feature 도출 : 최소 2개 이상\n",
    "    * 예 : 공휴일, 최근 7주일간의 평균 대기시간, 탑승률 등"
   ]
  },
  {
   "cell_type": "markdown",
   "metadata": {
    "id": "qY1k-Rz3abg5"
   },
   "source": [
    "#### 1) 날짜와 관련된 변수 추가하기 : 요일, 월, 계절, 연도\n",
    "* 요일 이름, 계절이름, 월 이름으로 만드는 경우에는, 변수를 pd.Categorical로 범주형을 만들면서 순서를 지정하는 것이 이후 그래프를 그릴 때 순서대로 표현할 수 있습니다.\n"
   ]
  },
  {
   "cell_type": "code",
   "execution_count": 12,
   "metadata": {
    "colab": {
     "base_uri": "https://localhost:8080/",
     "height": 661
    },
    "executionInfo": {
     "elapsed": 28,
     "status": "ok",
     "timestamp": 1682643024447,
     "user": {
      "displayName": "한기영",
      "userId": "13049187003176135487"
     },
     "user_tz": -540
    },
    "id": "b-N-DvK5aObm",
    "outputId": "2ccaab35-88ce-4aac-f3af-a25bbf90ea95"
   },
   "outputs": [
    {
     "data": {
      "text/html": [
       "<div>\n",
       "<style scoped>\n",
       "    .dataframe tbody tr th:only-of-type {\n",
       "        vertical-align: middle;\n",
       "    }\n",
       "\n",
       "    .dataframe tbody tr th {\n",
       "        vertical-align: top;\n",
       "    }\n",
       "\n",
       "    .dataframe thead th {\n",
       "        text-align: right;\n",
       "    }\n",
       "</style>\n",
       "<table border=\"1\" class=\"dataframe\">\n",
       "  <thead>\n",
       "    <tr style=\"text-align: right;\">\n",
       "      <th></th>\n",
       "      <th>date</th>\n",
       "      <th>drive</th>\n",
       "      <th>call_num</th>\n",
       "      <th>ride_num</th>\n",
       "      <th>waiting_time</th>\n",
       "      <th>fee</th>\n",
       "      <th>dis</th>\n",
       "      <th>weekday</th>\n",
       "      <th>day</th>\n",
       "      <th>month</th>\n",
       "      <th>year</th>\n",
       "      <th>temp_max</th>\n",
       "      <th>temp_min</th>\n",
       "      <th>rain(mm)</th>\n",
       "      <th>humidity_max(%)</th>\n",
       "      <th>humidity_min(%)</th>\n",
       "      <th>sunshine(MJ/m2)</th>\n",
       "      <th>season</th>\n",
       "    </tr>\n",
       "  </thead>\n",
       "  <tbody>\n",
       "    <tr>\n",
       "      <th>0</th>\n",
       "      <td>2015-01-01</td>\n",
       "      <td>213</td>\n",
       "      <td>1023</td>\n",
       "      <td>924</td>\n",
       "      <td>23.2</td>\n",
       "      <td>2427</td>\n",
       "      <td>10764</td>\n",
       "      <td>목</td>\n",
       "      <td>1</td>\n",
       "      <td>1</td>\n",
       "      <td>2015</td>\n",
       "      <td>-2.0</td>\n",
       "      <td>-8.9</td>\n",
       "      <td>0.0</td>\n",
       "      <td>63.0</td>\n",
       "      <td>28.0</td>\n",
       "      <td>9.07</td>\n",
       "      <td>Winter</td>\n",
       "    </tr>\n",
       "    <tr>\n",
       "      <th>1</th>\n",
       "      <td>2015-01-02</td>\n",
       "      <td>420</td>\n",
       "      <td>3158</td>\n",
       "      <td>2839</td>\n",
       "      <td>17.2</td>\n",
       "      <td>2216</td>\n",
       "      <td>8611</td>\n",
       "      <td>금</td>\n",
       "      <td>2</td>\n",
       "      <td>1</td>\n",
       "      <td>2015</td>\n",
       "      <td>2.4</td>\n",
       "      <td>-9.2</td>\n",
       "      <td>0.0</td>\n",
       "      <td>73.0</td>\n",
       "      <td>37.0</td>\n",
       "      <td>8.66</td>\n",
       "      <td>Winter</td>\n",
       "    </tr>\n",
       "    <tr>\n",
       "      <th>2</th>\n",
       "      <td>2015-01-03</td>\n",
       "      <td>209</td>\n",
       "      <td>1648</td>\n",
       "      <td>1514</td>\n",
       "      <td>26.2</td>\n",
       "      <td>2377</td>\n",
       "      <td>10198</td>\n",
       "      <td>토</td>\n",
       "      <td>3</td>\n",
       "      <td>1</td>\n",
       "      <td>2015</td>\n",
       "      <td>8.2</td>\n",
       "      <td>0.2</td>\n",
       "      <td>0.0</td>\n",
       "      <td>89.0</td>\n",
       "      <td>58.0</td>\n",
       "      <td>5.32</td>\n",
       "      <td>Winter</td>\n",
       "    </tr>\n",
       "    <tr>\n",
       "      <th>3</th>\n",
       "      <td>2015-01-04</td>\n",
       "      <td>196</td>\n",
       "      <td>1646</td>\n",
       "      <td>1526</td>\n",
       "      <td>24.5</td>\n",
       "      <td>2431</td>\n",
       "      <td>10955</td>\n",
       "      <td>일</td>\n",
       "      <td>4</td>\n",
       "      <td>1</td>\n",
       "      <td>2015</td>\n",
       "      <td>7.9</td>\n",
       "      <td>-0.9</td>\n",
       "      <td>0.0</td>\n",
       "      <td>95.0</td>\n",
       "      <td>52.0</td>\n",
       "      <td>6.48</td>\n",
       "      <td>Winter</td>\n",
       "    </tr>\n",
       "    <tr>\n",
       "      <th>4</th>\n",
       "      <td>2015-01-05</td>\n",
       "      <td>421</td>\n",
       "      <td>4250</td>\n",
       "      <td>3730</td>\n",
       "      <td>26.2</td>\n",
       "      <td>2214</td>\n",
       "      <td>8663</td>\n",
       "      <td>월</td>\n",
       "      <td>5</td>\n",
       "      <td>1</td>\n",
       "      <td>2015</td>\n",
       "      <td>4.1</td>\n",
       "      <td>-7.4</td>\n",
       "      <td>3.4</td>\n",
       "      <td>98.0</td>\n",
       "      <td>29.0</td>\n",
       "      <td>10.47</td>\n",
       "      <td>Winter</td>\n",
       "    </tr>\n",
       "  </tbody>\n",
       "</table>\n",
       "</div>"
      ],
      "text/plain": [
       "        date  drive  call_num  ride_num  waiting_time   fee    dis weekday  \\\n",
       "0 2015-01-01    213      1023       924          23.2  2427  10764       목   \n",
       "1 2015-01-02    420      3158      2839          17.2  2216   8611       금   \n",
       "2 2015-01-03    209      1648      1514          26.2  2377  10198       토   \n",
       "3 2015-01-04    196      1646      1526          24.5  2431  10955       일   \n",
       "4 2015-01-05    421      4250      3730          26.2  2214   8663       월   \n",
       "\n",
       "   day  month  year  temp_max  temp_min  rain(mm)  humidity_max(%)  \\\n",
       "0    1      1  2015      -2.0      -8.9       0.0             63.0   \n",
       "1    2      1  2015       2.4      -9.2       0.0             73.0   \n",
       "2    3      1  2015       8.2       0.2       0.0             89.0   \n",
       "3    4      1  2015       7.9      -0.9       0.0             95.0   \n",
       "4    5      1  2015       4.1      -7.4       3.4             98.0   \n",
       "\n",
       "   humidity_min(%)  sunshine(MJ/m2)  season  \n",
       "0             28.0             9.07  Winter  \n",
       "1             37.0             8.66  Winter  \n",
       "2             58.0             5.32  Winter  \n",
       "3             52.0             6.48  Winter  \n",
       "4             29.0            10.47  Winter  "
      ]
     },
     "execution_count": 12,
     "metadata": {},
     "output_type": "execute_result"
    }
   ],
   "source": [
    "# data0['weekday'] = data0['Date'].dt.day_name()\n",
    "# data0['weekday'] = pd.Categorical(data0['weekday'], \n",
    "#                                   categories=['Monday','Tuesday','Wednesday'ㄴㄴㄴㄴㄴ,'Thursday','Friday','Saturday','Sunday'])\n",
    "# data0['month'] = data0['Date'].dt.month\n",
    "\n",
    "# data0['season'] = np.where(data0['month'].isin([3,4,5]), 'Spring',\n",
    "#                            np.where(data0['month'].isin([6,7,8]), 'Summer',\n",
    "#                                     np.where(data0['month'].isin([9,10,11]), 'Fall', 'Winter')))\n",
    "# data0['season'] = pd.Categorical(data0['season'], categories=['Spring','Summer','Fall','Winter'])\n",
    "                                     \n",
    "# data0['year'] = data0['Date'].dt.year\n",
    "# data0\n",
    "\n",
    "# 계절 추가하기\n",
    "data_modi['season'] = np.where(data_modi['month'].isin([3,4,5]), 'Spring',\n",
    "                               np.where(data_modi['month'].isin([6,7,8]), 'Summer',\n",
    "                                    np.where(data_modi['month'].isin([9,10,11]), 'Fall', 'Winter')))\n",
    "data_modi['season'] = pd.Categorical(data_modi['season'], categories=['Spring','Summer','Fall','Winter'])\n",
    "data_modi.head()"
   ]
  },
  {
   "cell_type": "markdown",
   "metadata": {
    "id": "P0exvho5bJu0"
   },
   "source": [
    "#### 2) 공휴일 정보\n",
    "* workalendar 패키지를 설치하고, 대한민국 공휴일 정보를 끌어와 봅시다."
   ]
  },
  {
   "cell_type": "markdown",
   "metadata": {
    "id": "wutMCvycO1s0"
   },
   "source": [
    "* 간단 사용법"
   ]
  },
  {
   "cell_type": "code",
   "execution_count": 13,
   "metadata": {
    "colab": {
     "base_uri": "https://localhost:8080/",
     "height": 520
    },
    "executionInfo": {
     "elapsed": 32,
     "status": "ok",
     "timestamp": 1682643029609,
     "user": {
      "displayName": "한기영",
      "userId": "13049187003176135487"
     },
     "user_tz": -540
    },
    "id": "_BhDiwDpOwcQ",
    "outputId": "9325a7eb-da0b-442e-e955-4670100fce1e"
   },
   "outputs": [
    {
     "data": {
      "text/html": [
       "<div>\n",
       "<style scoped>\n",
       "    .dataframe tbody tr th:only-of-type {\n",
       "        vertical-align: middle;\n",
       "    }\n",
       "\n",
       "    .dataframe tbody tr th {\n",
       "        vertical-align: top;\n",
       "    }\n",
       "\n",
       "    .dataframe thead th {\n",
       "        text-align: right;\n",
       "    }\n",
       "</style>\n",
       "<table border=\"1\" class=\"dataframe\">\n",
       "  <thead>\n",
       "    <tr style=\"text-align: right;\">\n",
       "      <th></th>\n",
       "      <th>0</th>\n",
       "      <th>1</th>\n",
       "    </tr>\n",
       "  </thead>\n",
       "  <tbody>\n",
       "    <tr>\n",
       "      <th>0</th>\n",
       "      <td>2023-01-01</td>\n",
       "      <td>New year</td>\n",
       "    </tr>\n",
       "    <tr>\n",
       "      <th>1</th>\n",
       "      <td>2023-01-21</td>\n",
       "      <td>Korean New Year's Day</td>\n",
       "    </tr>\n",
       "    <tr>\n",
       "      <th>2</th>\n",
       "      <td>2023-01-22</td>\n",
       "      <td>Korean New Year's Day</td>\n",
       "    </tr>\n",
       "    <tr>\n",
       "      <th>3</th>\n",
       "      <td>2023-01-23</td>\n",
       "      <td>Korean New Year's Day</td>\n",
       "    </tr>\n",
       "    <tr>\n",
       "      <th>4</th>\n",
       "      <td>2023-03-01</td>\n",
       "      <td>Independence Day</td>\n",
       "    </tr>\n",
       "    <tr>\n",
       "      <th>5</th>\n",
       "      <td>2023-05-05</td>\n",
       "      <td>Children's Day</td>\n",
       "    </tr>\n",
       "    <tr>\n",
       "      <th>6</th>\n",
       "      <td>2023-05-26</td>\n",
       "      <td>Buddha's Birthday</td>\n",
       "    </tr>\n",
       "    <tr>\n",
       "      <th>7</th>\n",
       "      <td>2023-06-06</td>\n",
       "      <td>Memorial Day</td>\n",
       "    </tr>\n",
       "    <tr>\n",
       "      <th>8</th>\n",
       "      <td>2023-08-15</td>\n",
       "      <td>Liberation Day</td>\n",
       "    </tr>\n",
       "    <tr>\n",
       "      <th>9</th>\n",
       "      <td>2023-09-28</td>\n",
       "      <td>Midautumn Festival</td>\n",
       "    </tr>\n",
       "    <tr>\n",
       "      <th>10</th>\n",
       "      <td>2023-09-29</td>\n",
       "      <td>Midautumn Festival</td>\n",
       "    </tr>\n",
       "    <tr>\n",
       "      <th>11</th>\n",
       "      <td>2023-09-30</td>\n",
       "      <td>Midautumn Festival</td>\n",
       "    </tr>\n",
       "    <tr>\n",
       "      <th>12</th>\n",
       "      <td>2023-10-03</td>\n",
       "      <td>National Foundation Day</td>\n",
       "    </tr>\n",
       "    <tr>\n",
       "      <th>13</th>\n",
       "      <td>2023-10-09</td>\n",
       "      <td>Hangul Day</td>\n",
       "    </tr>\n",
       "    <tr>\n",
       "      <th>14</th>\n",
       "      <td>2023-12-25</td>\n",
       "      <td>Christmas Day</td>\n",
       "    </tr>\n",
       "  </tbody>\n",
       "</table>\n",
       "</div>"
      ],
      "text/plain": [
       "             0                        1\n",
       "0   2023-01-01                 New year\n",
       "1   2023-01-21    Korean New Year's Day\n",
       "2   2023-01-22    Korean New Year's Day\n",
       "3   2023-01-23    Korean New Year's Day\n",
       "4   2023-03-01         Independence Day\n",
       "5   2023-05-05           Children's Day\n",
       "6   2023-05-26        Buddha's Birthday\n",
       "7   2023-06-06             Memorial Day\n",
       "8   2023-08-15           Liberation Day\n",
       "9   2023-09-28       Midautumn Festival\n",
       "10  2023-09-29       Midautumn Festival\n",
       "11  2023-09-30       Midautumn Festival\n",
       "12  2023-10-03  National Foundation Day\n",
       "13  2023-10-09               Hangul Day\n",
       "14  2023-12-25            Christmas Day"
      ]
     },
     "execution_count": 13,
     "metadata": {},
     "output_type": "execute_result"
    }
   ],
   "source": [
    "from workalendar.asia import SouthKorea\n",
    "cal = SouthKorea()\n",
    "pd.DataFrame(cal.holidays(2023))"
   ]
  },
  {
   "cell_type": "markdown",
   "metadata": {
    "id": "BPag0pQoPQ_e"
   },
   "source": [
    "* 휴무일 데이터셋 만들기 2015 ~ 2022\n",
    "* 실제로 휴무일에 해당하지만 workalendar 라이브러리에 없는 날짜는 직접 추가해봅시다.\n",
    "    * 휴무일 장애인 콜택시의 접수건 변화에 대한 특징을 찾아 이를 바탕으로 데이터를 조회하여 찾아볼 수 있음"
   ]
  },
  {
   "cell_type": "code",
   "execution_count": 14,
   "metadata": {
    "colab": {
     "base_uri": "https://localhost:8080/",
     "height": 423
    },
    "executionInfo": {
     "elapsed": 32,
     "status": "ok",
     "timestamp": 1682643029611,
     "user": {
      "displayName": "한기영",
      "userId": "13049187003176135487"
     },
     "user_tz": -540
    },
    "id": "EWqrK9kkZsFH",
    "outputId": "d3d66a33-0a29-457e-bcf3-b1742760fe27"
   },
   "outputs": [
    {
     "data": {
      "text/html": [
       "<div>\n",
       "<style scoped>\n",
       "    .dataframe tbody tr th:only-of-type {\n",
       "        vertical-align: middle;\n",
       "    }\n",
       "\n",
       "    .dataframe tbody tr th {\n",
       "        vertical-align: top;\n",
       "    }\n",
       "\n",
       "    .dataframe thead th {\n",
       "        text-align: right;\n",
       "    }\n",
       "</style>\n",
       "<table border=\"1\" class=\"dataframe\">\n",
       "  <thead>\n",
       "    <tr style=\"text-align: right;\">\n",
       "      <th></th>\n",
       "      <th>date</th>\n",
       "      <th>holiday</th>\n",
       "    </tr>\n",
       "  </thead>\n",
       "  <tbody>\n",
       "    <tr>\n",
       "      <th>0</th>\n",
       "      <td>2015-01-01</td>\n",
       "      <td>1</td>\n",
       "    </tr>\n",
       "    <tr>\n",
       "      <th>1</th>\n",
       "      <td>2015-02-18</td>\n",
       "      <td>1</td>\n",
       "    </tr>\n",
       "    <tr>\n",
       "      <th>2</th>\n",
       "      <td>2015-02-19</td>\n",
       "      <td>1</td>\n",
       "    </tr>\n",
       "    <tr>\n",
       "      <th>3</th>\n",
       "      <td>2015-02-20</td>\n",
       "      <td>1</td>\n",
       "    </tr>\n",
       "    <tr>\n",
       "      <th>4</th>\n",
       "      <td>2015-03-01</td>\n",
       "      <td>1</td>\n",
       "    </tr>\n",
       "    <tr>\n",
       "      <th>...</th>\n",
       "      <td>...</td>\n",
       "      <td>...</td>\n",
       "    </tr>\n",
       "    <tr>\n",
       "      <th>10</th>\n",
       "      <td>2022-09-10</td>\n",
       "      <td>1</td>\n",
       "    </tr>\n",
       "    <tr>\n",
       "      <th>11</th>\n",
       "      <td>2022-09-11</td>\n",
       "      <td>1</td>\n",
       "    </tr>\n",
       "    <tr>\n",
       "      <th>12</th>\n",
       "      <td>2022-10-03</td>\n",
       "      <td>1</td>\n",
       "    </tr>\n",
       "    <tr>\n",
       "      <th>13</th>\n",
       "      <td>2022-10-09</td>\n",
       "      <td>1</td>\n",
       "    </tr>\n",
       "    <tr>\n",
       "      <th>14</th>\n",
       "      <td>2022-12-25</td>\n",
       "      <td>1</td>\n",
       "    </tr>\n",
       "  </tbody>\n",
       "</table>\n",
       "<p>120 rows × 2 columns</p>\n",
       "</div>"
      ],
      "text/plain": [
       "         date  holiday\n",
       "0  2015-01-01        1\n",
       "1  2015-02-18        1\n",
       "2  2015-02-19        1\n",
       "3  2015-02-20        1\n",
       "4  2015-03-01        1\n",
       "..        ...      ...\n",
       "10 2022-09-10        1\n",
       "11 2022-09-11        1\n",
       "12 2022-10-03        1\n",
       "13 2022-10-09        1\n",
       "14 2022-12-25        1\n",
       "\n",
       "[120 rows x 2 columns]"
      ]
     },
     "execution_count": 14,
     "metadata": {},
     "output_type": "execute_result"
    }
   ],
   "source": [
    "from workalendar.asia import SouthKorea\n",
    "\n",
    "cal = SouthKorea()\n",
    "holiday = pd.DataFrame()\n",
    "for y in range(2015, 2023) :\n",
    "    holiday = pd.concat([holiday, pd.DataFrame(cal.holidays(y))], axis = 0)\n",
    "\n",
    "holiday.columns = ['date', 'holiday']\n",
    "holiday['date'] = pd.to_datetime(holiday['date'])\n",
    "holiday['holiday'] = 1\n",
    "holiday"
   ]
  },
  {
   "cell_type": "markdown",
   "metadata": {
    "id": "L5cOYlg0hdpX"
   },
   "source": [
    "* 기존 데이터에 휴무일 정보 결합하기.\n",
    "* 휴무일이 아닌 날짜는 0으로 저장하시오."
   ]
  },
  {
   "cell_type": "code",
   "execution_count": 15,
   "metadata": {
    "executionInfo": {
     "elapsed": 31,
     "status": "ok",
     "timestamp": 1682643029612,
     "user": {
      "displayName": "한기영",
      "userId": "13049187003176135487"
     },
     "user_tz": -540
    },
    "id": "jHHh4H8icL3D"
   },
   "outputs": [],
   "source": [
    "data_modi = pd.merge(data_modi, holiday, how = 'left')\n",
    "data_modi = data_modi.fillna({'holiday':0})"
   ]
  },
  {
   "cell_type": "code",
   "execution_count": 16,
   "metadata": {},
   "outputs": [
    {
     "data": {
      "text/html": [
       "<div>\n",
       "<style scoped>\n",
       "    .dataframe tbody tr th:only-of-type {\n",
       "        vertical-align: middle;\n",
       "    }\n",
       "\n",
       "    .dataframe tbody tr th {\n",
       "        vertical-align: top;\n",
       "    }\n",
       "\n",
       "    .dataframe thead th {\n",
       "        text-align: right;\n",
       "    }\n",
       "</style>\n",
       "<table border=\"1\" class=\"dataframe\">\n",
       "  <thead>\n",
       "    <tr style=\"text-align: right;\">\n",
       "      <th></th>\n",
       "      <th>date</th>\n",
       "      <th>drive</th>\n",
       "      <th>call_num</th>\n",
       "      <th>ride_num</th>\n",
       "      <th>waiting_time</th>\n",
       "      <th>fee</th>\n",
       "      <th>dis</th>\n",
       "      <th>weekday</th>\n",
       "      <th>day</th>\n",
       "      <th>month</th>\n",
       "      <th>year</th>\n",
       "      <th>temp_max</th>\n",
       "      <th>temp_min</th>\n",
       "      <th>rain(mm)</th>\n",
       "      <th>humidity_max(%)</th>\n",
       "      <th>humidity_min(%)</th>\n",
       "      <th>sunshine(MJ/m2)</th>\n",
       "      <th>season</th>\n",
       "      <th>holiday</th>\n",
       "    </tr>\n",
       "  </thead>\n",
       "  <tbody>\n",
       "    <tr>\n",
       "      <th>0</th>\n",
       "      <td>2015-01-01</td>\n",
       "      <td>213</td>\n",
       "      <td>1023</td>\n",
       "      <td>924</td>\n",
       "      <td>23.2</td>\n",
       "      <td>2427</td>\n",
       "      <td>10764</td>\n",
       "      <td>목</td>\n",
       "      <td>1</td>\n",
       "      <td>1</td>\n",
       "      <td>2015</td>\n",
       "      <td>-2.0</td>\n",
       "      <td>-8.9</td>\n",
       "      <td>0.0</td>\n",
       "      <td>63.0</td>\n",
       "      <td>28.0</td>\n",
       "      <td>9.07</td>\n",
       "      <td>Winter</td>\n",
       "      <td>1.0</td>\n",
       "    </tr>\n",
       "    <tr>\n",
       "      <th>1</th>\n",
       "      <td>2015-01-02</td>\n",
       "      <td>420</td>\n",
       "      <td>3158</td>\n",
       "      <td>2839</td>\n",
       "      <td>17.2</td>\n",
       "      <td>2216</td>\n",
       "      <td>8611</td>\n",
       "      <td>금</td>\n",
       "      <td>2</td>\n",
       "      <td>1</td>\n",
       "      <td>2015</td>\n",
       "      <td>2.4</td>\n",
       "      <td>-9.2</td>\n",
       "      <td>0.0</td>\n",
       "      <td>73.0</td>\n",
       "      <td>37.0</td>\n",
       "      <td>8.66</td>\n",
       "      <td>Winter</td>\n",
       "      <td>0.0</td>\n",
       "    </tr>\n",
       "    <tr>\n",
       "      <th>2</th>\n",
       "      <td>2015-01-03</td>\n",
       "      <td>209</td>\n",
       "      <td>1648</td>\n",
       "      <td>1514</td>\n",
       "      <td>26.2</td>\n",
       "      <td>2377</td>\n",
       "      <td>10198</td>\n",
       "      <td>토</td>\n",
       "      <td>3</td>\n",
       "      <td>1</td>\n",
       "      <td>2015</td>\n",
       "      <td>8.2</td>\n",
       "      <td>0.2</td>\n",
       "      <td>0.0</td>\n",
       "      <td>89.0</td>\n",
       "      <td>58.0</td>\n",
       "      <td>5.32</td>\n",
       "      <td>Winter</td>\n",
       "      <td>0.0</td>\n",
       "    </tr>\n",
       "    <tr>\n",
       "      <th>3</th>\n",
       "      <td>2015-01-04</td>\n",
       "      <td>196</td>\n",
       "      <td>1646</td>\n",
       "      <td>1526</td>\n",
       "      <td>24.5</td>\n",
       "      <td>2431</td>\n",
       "      <td>10955</td>\n",
       "      <td>일</td>\n",
       "      <td>4</td>\n",
       "      <td>1</td>\n",
       "      <td>2015</td>\n",
       "      <td>7.9</td>\n",
       "      <td>-0.9</td>\n",
       "      <td>0.0</td>\n",
       "      <td>95.0</td>\n",
       "      <td>52.0</td>\n",
       "      <td>6.48</td>\n",
       "      <td>Winter</td>\n",
       "      <td>0.0</td>\n",
       "    </tr>\n",
       "    <tr>\n",
       "      <th>4</th>\n",
       "      <td>2015-01-05</td>\n",
       "      <td>421</td>\n",
       "      <td>4250</td>\n",
       "      <td>3730</td>\n",
       "      <td>26.2</td>\n",
       "      <td>2214</td>\n",
       "      <td>8663</td>\n",
       "      <td>월</td>\n",
       "      <td>5</td>\n",
       "      <td>1</td>\n",
       "      <td>2015</td>\n",
       "      <td>4.1</td>\n",
       "      <td>-7.4</td>\n",
       "      <td>3.4</td>\n",
       "      <td>98.0</td>\n",
       "      <td>29.0</td>\n",
       "      <td>10.47</td>\n",
       "      <td>Winter</td>\n",
       "      <td>0.0</td>\n",
       "    </tr>\n",
       "  </tbody>\n",
       "</table>\n",
       "</div>"
      ],
      "text/plain": [
       "        date  drive  call_num  ride_num  waiting_time   fee    dis weekday  \\\n",
       "0 2015-01-01    213      1023       924          23.2  2427  10764       목   \n",
       "1 2015-01-02    420      3158      2839          17.2  2216   8611       금   \n",
       "2 2015-01-03    209      1648      1514          26.2  2377  10198       토   \n",
       "3 2015-01-04    196      1646      1526          24.5  2431  10955       일   \n",
       "4 2015-01-05    421      4250      3730          26.2  2214   8663       월   \n",
       "\n",
       "   day  month  year  temp_max  temp_min  rain(mm)  humidity_max(%)  \\\n",
       "0    1      1  2015      -2.0      -8.9       0.0             63.0   \n",
       "1    2      1  2015       2.4      -9.2       0.0             73.0   \n",
       "2    3      1  2015       8.2       0.2       0.0             89.0   \n",
       "3    4      1  2015       7.9      -0.9       0.0             95.0   \n",
       "4    5      1  2015       4.1      -7.4       3.4             98.0   \n",
       "\n",
       "   humidity_min(%)  sunshine(MJ/m2)  season  holiday  \n",
       "0             28.0             9.07  Winter      1.0  \n",
       "1             37.0             8.66  Winter      0.0  \n",
       "2             58.0             5.32  Winter      0.0  \n",
       "3             52.0             6.48  Winter      0.0  \n",
       "4             29.0            10.47  Winter      0.0  "
      ]
     },
     "execution_count": 16,
     "metadata": {},
     "output_type": "execute_result"
    }
   ],
   "source": [
    "data_modi.head()"
   ]
  },
  {
   "cell_type": "markdown",
   "metadata": {
    "id": "bBnWrSF9dHMP"
   },
   "source": [
    "#### 3) 7일 이동평균 대기시간\n",
    "* rolling().mean() 사용"
   ]
  },
  {
   "cell_type": "code",
   "execution_count": 17,
   "metadata": {
    "colab": {
     "base_uri": "https://localhost:8080/",
     "height": 661
    },
    "executionInfo": {
     "elapsed": 31,
     "status": "ok",
     "timestamp": 1682643029613,
     "user": {
      "displayName": "한기영",
      "userId": "13049187003176135487"
     },
     "user_tz": -540
    },
    "id": "9fk23rt6dK53",
    "outputId": "0af2f175-e802-4e29-8ad2-03c662273d5a",
    "scrolled": true
   },
   "outputs": [
    {
     "data": {
      "text/html": [
       "<div>\n",
       "<style scoped>\n",
       "    .dataframe tbody tr th:only-of-type {\n",
       "        vertical-align: middle;\n",
       "    }\n",
       "\n",
       "    .dataframe tbody tr th {\n",
       "        vertical-align: top;\n",
       "    }\n",
       "\n",
       "    .dataframe thead th {\n",
       "        text-align: right;\n",
       "    }\n",
       "</style>\n",
       "<table border=\"1\" class=\"dataframe\">\n",
       "  <thead>\n",
       "    <tr style=\"text-align: right;\">\n",
       "      <th></th>\n",
       "      <th>date</th>\n",
       "      <th>drive</th>\n",
       "      <th>call_num</th>\n",
       "      <th>ride_num</th>\n",
       "      <th>waiting_time</th>\n",
       "      <th>fee</th>\n",
       "      <th>dis</th>\n",
       "      <th>weekday</th>\n",
       "      <th>day</th>\n",
       "      <th>month</th>\n",
       "      <th>year</th>\n",
       "      <th>temp_max</th>\n",
       "      <th>temp_min</th>\n",
       "      <th>rain(mm)</th>\n",
       "      <th>humidity_max(%)</th>\n",
       "      <th>humidity_min(%)</th>\n",
       "      <th>sunshine(MJ/m2)</th>\n",
       "      <th>season</th>\n",
       "      <th>holiday</th>\n",
       "      <th>7_day_avg_waiting_time</th>\n",
       "    </tr>\n",
       "  </thead>\n",
       "  <tbody>\n",
       "    <tr>\n",
       "      <th>0</th>\n",
       "      <td>2015-01-01</td>\n",
       "      <td>213</td>\n",
       "      <td>1023</td>\n",
       "      <td>924</td>\n",
       "      <td>23.2</td>\n",
       "      <td>2427</td>\n",
       "      <td>10764</td>\n",
       "      <td>목</td>\n",
       "      <td>1</td>\n",
       "      <td>1</td>\n",
       "      <td>2015</td>\n",
       "      <td>-2.0</td>\n",
       "      <td>-8.9</td>\n",
       "      <td>0.0</td>\n",
       "      <td>63.0</td>\n",
       "      <td>28.0</td>\n",
       "      <td>9.07</td>\n",
       "      <td>Winter</td>\n",
       "      <td>1.0</td>\n",
       "      <td>NaN</td>\n",
       "    </tr>\n",
       "    <tr>\n",
       "      <th>1</th>\n",
       "      <td>2015-01-02</td>\n",
       "      <td>420</td>\n",
       "      <td>3158</td>\n",
       "      <td>2839</td>\n",
       "      <td>17.2</td>\n",
       "      <td>2216</td>\n",
       "      <td>8611</td>\n",
       "      <td>금</td>\n",
       "      <td>2</td>\n",
       "      <td>1</td>\n",
       "      <td>2015</td>\n",
       "      <td>2.4</td>\n",
       "      <td>-9.2</td>\n",
       "      <td>0.0</td>\n",
       "      <td>73.0</td>\n",
       "      <td>37.0</td>\n",
       "      <td>8.66</td>\n",
       "      <td>Winter</td>\n",
       "      <td>0.0</td>\n",
       "      <td>NaN</td>\n",
       "    </tr>\n",
       "    <tr>\n",
       "      <th>2</th>\n",
       "      <td>2015-01-03</td>\n",
       "      <td>209</td>\n",
       "      <td>1648</td>\n",
       "      <td>1514</td>\n",
       "      <td>26.2</td>\n",
       "      <td>2377</td>\n",
       "      <td>10198</td>\n",
       "      <td>토</td>\n",
       "      <td>3</td>\n",
       "      <td>1</td>\n",
       "      <td>2015</td>\n",
       "      <td>8.2</td>\n",
       "      <td>0.2</td>\n",
       "      <td>0.0</td>\n",
       "      <td>89.0</td>\n",
       "      <td>58.0</td>\n",
       "      <td>5.32</td>\n",
       "      <td>Winter</td>\n",
       "      <td>0.0</td>\n",
       "      <td>NaN</td>\n",
       "    </tr>\n",
       "    <tr>\n",
       "      <th>3</th>\n",
       "      <td>2015-01-04</td>\n",
       "      <td>196</td>\n",
       "      <td>1646</td>\n",
       "      <td>1526</td>\n",
       "      <td>24.5</td>\n",
       "      <td>2431</td>\n",
       "      <td>10955</td>\n",
       "      <td>일</td>\n",
       "      <td>4</td>\n",
       "      <td>1</td>\n",
       "      <td>2015</td>\n",
       "      <td>7.9</td>\n",
       "      <td>-0.9</td>\n",
       "      <td>0.0</td>\n",
       "      <td>95.0</td>\n",
       "      <td>52.0</td>\n",
       "      <td>6.48</td>\n",
       "      <td>Winter</td>\n",
       "      <td>0.0</td>\n",
       "      <td>NaN</td>\n",
       "    </tr>\n",
       "    <tr>\n",
       "      <th>4</th>\n",
       "      <td>2015-01-05</td>\n",
       "      <td>421</td>\n",
       "      <td>4250</td>\n",
       "      <td>3730</td>\n",
       "      <td>26.2</td>\n",
       "      <td>2214</td>\n",
       "      <td>8663</td>\n",
       "      <td>월</td>\n",
       "      <td>5</td>\n",
       "      <td>1</td>\n",
       "      <td>2015</td>\n",
       "      <td>4.1</td>\n",
       "      <td>-7.4</td>\n",
       "      <td>3.4</td>\n",
       "      <td>98.0</td>\n",
       "      <td>29.0</td>\n",
       "      <td>10.47</td>\n",
       "      <td>Winter</td>\n",
       "      <td>0.0</td>\n",
       "      <td>NaN</td>\n",
       "    </tr>\n",
       "    <tr>\n",
       "      <th>5</th>\n",
       "      <td>2015-01-06</td>\n",
       "      <td>417</td>\n",
       "      <td>3991</td>\n",
       "      <td>3633</td>\n",
       "      <td>23.6</td>\n",
       "      <td>2211</td>\n",
       "      <td>8545</td>\n",
       "      <td>화</td>\n",
       "      <td>6</td>\n",
       "      <td>1</td>\n",
       "      <td>2015</td>\n",
       "      <td>-1.0</td>\n",
       "      <td>-8.8</td>\n",
       "      <td>0.0</td>\n",
       "      <td>42.0</td>\n",
       "      <td>24.0</td>\n",
       "      <td>10.12</td>\n",
       "      <td>Winter</td>\n",
       "      <td>0.0</td>\n",
       "      <td>NaN</td>\n",
       "    </tr>\n",
       "    <tr>\n",
       "      <th>6</th>\n",
       "      <td>2015-01-07</td>\n",
       "      <td>410</td>\n",
       "      <td>4085</td>\n",
       "      <td>3676</td>\n",
       "      <td>24.7</td>\n",
       "      <td>2230</td>\n",
       "      <td>8646</td>\n",
       "      <td>수</td>\n",
       "      <td>7</td>\n",
       "      <td>1</td>\n",
       "      <td>2015</td>\n",
       "      <td>-0.2</td>\n",
       "      <td>-9.2</td>\n",
       "      <td>0.0</td>\n",
       "      <td>62.0</td>\n",
       "      <td>27.0</td>\n",
       "      <td>10.09</td>\n",
       "      <td>Winter</td>\n",
       "      <td>0.0</td>\n",
       "      <td>23.657143</td>\n",
       "    </tr>\n",
       "    <tr>\n",
       "      <th>7</th>\n",
       "      <td>2015-01-08</td>\n",
       "      <td>419</td>\n",
       "      <td>4030</td>\n",
       "      <td>3728</td>\n",
       "      <td>21.2</td>\n",
       "      <td>2231</td>\n",
       "      <td>8683</td>\n",
       "      <td>목</td>\n",
       "      <td>8</td>\n",
       "      <td>1</td>\n",
       "      <td>2015</td>\n",
       "      <td>3.2</td>\n",
       "      <td>-6.8</td>\n",
       "      <td>0.0</td>\n",
       "      <td>78.0</td>\n",
       "      <td>38.0</td>\n",
       "      <td>8.74</td>\n",
       "      <td>Winter</td>\n",
       "      <td>0.0</td>\n",
       "      <td>23.371429</td>\n",
       "    </tr>\n",
       "    <tr>\n",
       "      <th>8</th>\n",
       "      <td>2015-01-09</td>\n",
       "      <td>424</td>\n",
       "      <td>4167</td>\n",
       "      <td>3813</td>\n",
       "      <td>21.8</td>\n",
       "      <td>2215</td>\n",
       "      <td>8506</td>\n",
       "      <td>금</td>\n",
       "      <td>9</td>\n",
       "      <td>1</td>\n",
       "      <td>2015</td>\n",
       "      <td>4.3</td>\n",
       "      <td>-5.5</td>\n",
       "      <td>0.0</td>\n",
       "      <td>81.0</td>\n",
       "      <td>33.0</td>\n",
       "      <td>9.41</td>\n",
       "      <td>Winter</td>\n",
       "      <td>0.0</td>\n",
       "      <td>24.028571</td>\n",
       "    </tr>\n",
       "    <tr>\n",
       "      <th>9</th>\n",
       "      <td>2015-01-10</td>\n",
       "      <td>215</td>\n",
       "      <td>1916</td>\n",
       "      <td>1645</td>\n",
       "      <td>41.2</td>\n",
       "      <td>2447</td>\n",
       "      <td>11123</td>\n",
       "      <td>토</td>\n",
       "      <td>10</td>\n",
       "      <td>1</td>\n",
       "      <td>2015</td>\n",
       "      <td>2.3</td>\n",
       "      <td>-4.0</td>\n",
       "      <td>0.0</td>\n",
       "      <td>83.0</td>\n",
       "      <td>39.0</td>\n",
       "      <td>9.60</td>\n",
       "      <td>Winter</td>\n",
       "      <td>0.0</td>\n",
       "      <td>26.171429</td>\n",
       "    </tr>\n",
       "    <tr>\n",
       "      <th>10</th>\n",
       "      <td>2015-01-11</td>\n",
       "      <td>187</td>\n",
       "      <td>1700</td>\n",
       "      <td>1572</td>\n",
       "      <td>28.8</td>\n",
       "      <td>2419</td>\n",
       "      <td>10806</td>\n",
       "      <td>일</td>\n",
       "      <td>11</td>\n",
       "      <td>1</td>\n",
       "      <td>2015</td>\n",
       "      <td>3.4</td>\n",
       "      <td>-7.2</td>\n",
       "      <td>0.0</td>\n",
       "      <td>51.0</td>\n",
       "      <td>23.0</td>\n",
       "      <td>10.05</td>\n",
       "      <td>Winter</td>\n",
       "      <td>0.0</td>\n",
       "      <td>26.785714</td>\n",
       "    </tr>\n",
       "    <tr>\n",
       "      <th>11</th>\n",
       "      <td>2015-01-12</td>\n",
       "      <td>415</td>\n",
       "      <td>4254</td>\n",
       "      <td>3940</td>\n",
       "      <td>23.2</td>\n",
       "      <td>2225</td>\n",
       "      <td>8646</td>\n",
       "      <td>월</td>\n",
       "      <td>12</td>\n",
       "      <td>1</td>\n",
       "      <td>2015</td>\n",
       "      <td>5.4</td>\n",
       "      <td>-4.9</td>\n",
       "      <td>0.0</td>\n",
       "      <td>56.0</td>\n",
       "      <td>23.0</td>\n",
       "      <td>8.14</td>\n",
       "      <td>Winter</td>\n",
       "      <td>0.0</td>\n",
       "      <td>26.357143</td>\n",
       "    </tr>\n",
       "    <tr>\n",
       "      <th>12</th>\n",
       "      <td>2015-01-13</td>\n",
       "      <td>416</td>\n",
       "      <td>4385</td>\n",
       "      <td>3973</td>\n",
       "      <td>25.6</td>\n",
       "      <td>2257</td>\n",
       "      <td>9034</td>\n",
       "      <td>화</td>\n",
       "      <td>13</td>\n",
       "      <td>1</td>\n",
       "      <td>2015</td>\n",
       "      <td>6.1</td>\n",
       "      <td>-0.3</td>\n",
       "      <td>0.0</td>\n",
       "      <td>50.0</td>\n",
       "      <td>30.0</td>\n",
       "      <td>3.36</td>\n",
       "      <td>Winter</td>\n",
       "      <td>0.0</td>\n",
       "      <td>26.642857</td>\n",
       "    </tr>\n",
       "    <tr>\n",
       "      <th>13</th>\n",
       "      <td>2015-01-14</td>\n",
       "      <td>408</td>\n",
       "      <td>4255</td>\n",
       "      <td>3910</td>\n",
       "      <td>23.7</td>\n",
       "      <td>2225</td>\n",
       "      <td>8549</td>\n",
       "      <td>수</td>\n",
       "      <td>14</td>\n",
       "      <td>1</td>\n",
       "      <td>2015</td>\n",
       "      <td>8.6</td>\n",
       "      <td>-1.1</td>\n",
       "      <td>0.0</td>\n",
       "      <td>71.0</td>\n",
       "      <td>35.0</td>\n",
       "      <td>8.47</td>\n",
       "      <td>Winter</td>\n",
       "      <td>0.0</td>\n",
       "      <td>26.500000</td>\n",
       "    </tr>\n",
       "    <tr>\n",
       "      <th>14</th>\n",
       "      <td>2015-01-15</td>\n",
       "      <td>415</td>\n",
       "      <td>4113</td>\n",
       "      <td>3810</td>\n",
       "      <td>22.4</td>\n",
       "      <td>2236</td>\n",
       "      <td>8738</td>\n",
       "      <td>목</td>\n",
       "      <td>15</td>\n",
       "      <td>1</td>\n",
       "      <td>2015</td>\n",
       "      <td>3.2</td>\n",
       "      <td>-2.4</td>\n",
       "      <td>0.3</td>\n",
       "      <td>89.0</td>\n",
       "      <td>60.0</td>\n",
       "      <td>2.79</td>\n",
       "      <td>Winter</td>\n",
       "      <td>0.0</td>\n",
       "      <td>26.671429</td>\n",
       "    </tr>\n",
       "    <tr>\n",
       "      <th>15</th>\n",
       "      <td>2015-01-16</td>\n",
       "      <td>417</td>\n",
       "      <td>4231</td>\n",
       "      <td>3887</td>\n",
       "      <td>23.3</td>\n",
       "      <td>2214</td>\n",
       "      <td>8541</td>\n",
       "      <td>금</td>\n",
       "      <td>16</td>\n",
       "      <td>1</td>\n",
       "      <td>2015</td>\n",
       "      <td>-0.2</td>\n",
       "      <td>-7.7</td>\n",
       "      <td>0.0</td>\n",
       "      <td>64.0</td>\n",
       "      <td>29.0</td>\n",
       "      <td>10.89</td>\n",
       "      <td>Winter</td>\n",
       "      <td>0.0</td>\n",
       "      <td>26.885714</td>\n",
       "    </tr>\n",
       "    <tr>\n",
       "      <th>16</th>\n",
       "      <td>2015-01-17</td>\n",
       "      <td>219</td>\n",
       "      <td>1913</td>\n",
       "      <td>1728</td>\n",
       "      <td>35.7</td>\n",
       "      <td>2376</td>\n",
       "      <td>10192</td>\n",
       "      <td>토</td>\n",
       "      <td>17</td>\n",
       "      <td>1</td>\n",
       "      <td>2015</td>\n",
       "      <td>1.9</td>\n",
       "      <td>-6.4</td>\n",
       "      <td>2.5</td>\n",
       "      <td>99.0</td>\n",
       "      <td>42.0</td>\n",
       "      <td>5.06</td>\n",
       "      <td>Winter</td>\n",
       "      <td>0.0</td>\n",
       "      <td>26.100000</td>\n",
       "    </tr>\n",
       "    <tr>\n",
       "      <th>17</th>\n",
       "      <td>2015-01-18</td>\n",
       "      <td>188</td>\n",
       "      <td>1788</td>\n",
       "      <td>1579</td>\n",
       "      <td>33.8</td>\n",
       "      <td>2454</td>\n",
       "      <td>11461</td>\n",
       "      <td>일</td>\n",
       "      <td>18</td>\n",
       "      <td>1</td>\n",
       "      <td>2015</td>\n",
       "      <td>3.0</td>\n",
       "      <td>-3.6</td>\n",
       "      <td>1.6</td>\n",
       "      <td>94.0</td>\n",
       "      <td>56.0</td>\n",
       "      <td>7.52</td>\n",
       "      <td>Winter</td>\n",
       "      <td>0.0</td>\n",
       "      <td>26.814286</td>\n",
       "    </tr>\n",
       "    <tr>\n",
       "      <th>18</th>\n",
       "      <td>2015-01-19</td>\n",
       "      <td>404</td>\n",
       "      <td>4230</td>\n",
       "      <td>3892</td>\n",
       "      <td>25.8</td>\n",
       "      <td>2228</td>\n",
       "      <td>8694</td>\n",
       "      <td>월</td>\n",
       "      <td>19</td>\n",
       "      <td>1</td>\n",
       "      <td>2015</td>\n",
       "      <td>4.1</td>\n",
       "      <td>-6.4</td>\n",
       "      <td>0.0</td>\n",
       "      <td>78.0</td>\n",
       "      <td>34.0</td>\n",
       "      <td>9.79</td>\n",
       "      <td>Winter</td>\n",
       "      <td>0.0</td>\n",
       "      <td>27.185714</td>\n",
       "    </tr>\n",
       "    <tr>\n",
       "      <th>19</th>\n",
       "      <td>2015-01-20</td>\n",
       "      <td>413</td>\n",
       "      <td>4471</td>\n",
       "      <td>4015</td>\n",
       "      <td>29.6</td>\n",
       "      <td>2263</td>\n",
       "      <td>9065</td>\n",
       "      <td>화</td>\n",
       "      <td>20</td>\n",
       "      <td>1</td>\n",
       "      <td>2015</td>\n",
       "      <td>6.4</td>\n",
       "      <td>-1.1</td>\n",
       "      <td>0.0</td>\n",
       "      <td>69.0</td>\n",
       "      <td>43.0</td>\n",
       "      <td>5.67</td>\n",
       "      <td>Winter</td>\n",
       "      <td>0.0</td>\n",
       "      <td>27.757143</td>\n",
       "    </tr>\n",
       "  </tbody>\n",
       "</table>\n",
       "</div>"
      ],
      "text/plain": [
       "         date  drive  call_num  ride_num  waiting_time   fee    dis weekday  \\\n",
       "0  2015-01-01    213      1023       924          23.2  2427  10764       목   \n",
       "1  2015-01-02    420      3158      2839          17.2  2216   8611       금   \n",
       "2  2015-01-03    209      1648      1514          26.2  2377  10198       토   \n",
       "3  2015-01-04    196      1646      1526          24.5  2431  10955       일   \n",
       "4  2015-01-05    421      4250      3730          26.2  2214   8663       월   \n",
       "5  2015-01-06    417      3991      3633          23.6  2211   8545       화   \n",
       "6  2015-01-07    410      4085      3676          24.7  2230   8646       수   \n",
       "7  2015-01-08    419      4030      3728          21.2  2231   8683       목   \n",
       "8  2015-01-09    424      4167      3813          21.8  2215   8506       금   \n",
       "9  2015-01-10    215      1916      1645          41.2  2447  11123       토   \n",
       "10 2015-01-11    187      1700      1572          28.8  2419  10806       일   \n",
       "11 2015-01-12    415      4254      3940          23.2  2225   8646       월   \n",
       "12 2015-01-13    416      4385      3973          25.6  2257   9034       화   \n",
       "13 2015-01-14    408      4255      3910          23.7  2225   8549       수   \n",
       "14 2015-01-15    415      4113      3810          22.4  2236   8738       목   \n",
       "15 2015-01-16    417      4231      3887          23.3  2214   8541       금   \n",
       "16 2015-01-17    219      1913      1728          35.7  2376  10192       토   \n",
       "17 2015-01-18    188      1788      1579          33.8  2454  11461       일   \n",
       "18 2015-01-19    404      4230      3892          25.8  2228   8694       월   \n",
       "19 2015-01-20    413      4471      4015          29.6  2263   9065       화   \n",
       "\n",
       "    day  month  year  temp_max  temp_min  rain(mm)  humidity_max(%)  \\\n",
       "0     1      1  2015      -2.0      -8.9       0.0             63.0   \n",
       "1     2      1  2015       2.4      -9.2       0.0             73.0   \n",
       "2     3      1  2015       8.2       0.2       0.0             89.0   \n",
       "3     4      1  2015       7.9      -0.9       0.0             95.0   \n",
       "4     5      1  2015       4.1      -7.4       3.4             98.0   \n",
       "5     6      1  2015      -1.0      -8.8       0.0             42.0   \n",
       "6     7      1  2015      -0.2      -9.2       0.0             62.0   \n",
       "7     8      1  2015       3.2      -6.8       0.0             78.0   \n",
       "8     9      1  2015       4.3      -5.5       0.0             81.0   \n",
       "9    10      1  2015       2.3      -4.0       0.0             83.0   \n",
       "10   11      1  2015       3.4      -7.2       0.0             51.0   \n",
       "11   12      1  2015       5.4      -4.9       0.0             56.0   \n",
       "12   13      1  2015       6.1      -0.3       0.0             50.0   \n",
       "13   14      1  2015       8.6      -1.1       0.0             71.0   \n",
       "14   15      1  2015       3.2      -2.4       0.3             89.0   \n",
       "15   16      1  2015      -0.2      -7.7       0.0             64.0   \n",
       "16   17      1  2015       1.9      -6.4       2.5             99.0   \n",
       "17   18      1  2015       3.0      -3.6       1.6             94.0   \n",
       "18   19      1  2015       4.1      -6.4       0.0             78.0   \n",
       "19   20      1  2015       6.4      -1.1       0.0             69.0   \n",
       "\n",
       "    humidity_min(%)  sunshine(MJ/m2)  season  holiday  7_day_avg_waiting_time  \n",
       "0              28.0             9.07  Winter      1.0                     NaN  \n",
       "1              37.0             8.66  Winter      0.0                     NaN  \n",
       "2              58.0             5.32  Winter      0.0                     NaN  \n",
       "3              52.0             6.48  Winter      0.0                     NaN  \n",
       "4              29.0            10.47  Winter      0.0                     NaN  \n",
       "5              24.0            10.12  Winter      0.0                     NaN  \n",
       "6              27.0            10.09  Winter      0.0               23.657143  \n",
       "7              38.0             8.74  Winter      0.0               23.371429  \n",
       "8              33.0             9.41  Winter      0.0               24.028571  \n",
       "9              39.0             9.60  Winter      0.0               26.171429  \n",
       "10             23.0            10.05  Winter      0.0               26.785714  \n",
       "11             23.0             8.14  Winter      0.0               26.357143  \n",
       "12             30.0             3.36  Winter      0.0               26.642857  \n",
       "13             35.0             8.47  Winter      0.0               26.500000  \n",
       "14             60.0             2.79  Winter      0.0               26.671429  \n",
       "15             29.0            10.89  Winter      0.0               26.885714  \n",
       "16             42.0             5.06  Winter      0.0               26.100000  \n",
       "17             56.0             7.52  Winter      0.0               26.814286  \n",
       "18             34.0             9.79  Winter      0.0               27.185714  \n",
       "19             43.0             5.67  Winter      0.0               27.757143  "
      ]
     },
     "execution_count": 17,
     "metadata": {},
     "output_type": "execute_result"
    }
   ],
   "source": [
    "# 아래에 실습코드를 작성하고 결과를 확인합니다.\n",
    "data_modi['7_day_avg_waiting_time'] = data_modi['waiting_time'].rolling(window=7).mean()\n",
    "data_modi.head(20)"
   ]
  },
  {
   "cell_type": "markdown",
   "metadata": {
    "id": "eMZJxlaReHZW"
   },
   "source": [
    "#### 4) 탑승률"
   ]
  },
  {
   "cell_type": "code",
   "execution_count": 18,
   "metadata": {
    "colab": {
     "base_uri": "https://localhost:8080/",
     "height": 661
    },
    "executionInfo": {
     "elapsed": 29,
     "status": "ok",
     "timestamp": 1682643029613,
     "user": {
      "displayName": "한기영",
      "userId": "13049187003176135487"
     },
     "user_tz": -540
    },
    "id": "BchF6jZTeMXJ",
    "outputId": "efd902a7-4c08-4f95-d4f9-17dd1c0ada96"
   },
   "outputs": [
    {
     "data": {
      "text/html": [
       "<div>\n",
       "<style scoped>\n",
       "    .dataframe tbody tr th:only-of-type {\n",
       "        vertical-align: middle;\n",
       "    }\n",
       "\n",
       "    .dataframe tbody tr th {\n",
       "        vertical-align: top;\n",
       "    }\n",
       "\n",
       "    .dataframe thead th {\n",
       "        text-align: right;\n",
       "    }\n",
       "</style>\n",
       "<table border=\"1\" class=\"dataframe\">\n",
       "  <thead>\n",
       "    <tr style=\"text-align: right;\">\n",
       "      <th></th>\n",
       "      <th>date</th>\n",
       "      <th>drive</th>\n",
       "      <th>call_num</th>\n",
       "      <th>ride_num</th>\n",
       "      <th>waiting_time</th>\n",
       "      <th>fee</th>\n",
       "      <th>dis</th>\n",
       "      <th>weekday</th>\n",
       "      <th>day</th>\n",
       "      <th>month</th>\n",
       "      <th>...</th>\n",
       "      <th>temp_max</th>\n",
       "      <th>temp_min</th>\n",
       "      <th>rain(mm)</th>\n",
       "      <th>humidity_max(%)</th>\n",
       "      <th>humidity_min(%)</th>\n",
       "      <th>sunshine(MJ/m2)</th>\n",
       "      <th>season</th>\n",
       "      <th>holiday</th>\n",
       "      <th>7_day_avg_waiting_time</th>\n",
       "      <th>ride_num/call_num</th>\n",
       "    </tr>\n",
       "  </thead>\n",
       "  <tbody>\n",
       "    <tr>\n",
       "      <th>0</th>\n",
       "      <td>2015-01-01</td>\n",
       "      <td>213</td>\n",
       "      <td>1023</td>\n",
       "      <td>924</td>\n",
       "      <td>23.2</td>\n",
       "      <td>2427</td>\n",
       "      <td>10764</td>\n",
       "      <td>목</td>\n",
       "      <td>1</td>\n",
       "      <td>1</td>\n",
       "      <td>...</td>\n",
       "      <td>-2.0</td>\n",
       "      <td>-8.9</td>\n",
       "      <td>0.0</td>\n",
       "      <td>63.0</td>\n",
       "      <td>28.0</td>\n",
       "      <td>9.07</td>\n",
       "      <td>Winter</td>\n",
       "      <td>1.0</td>\n",
       "      <td>NaN</td>\n",
       "      <td>90.322581</td>\n",
       "    </tr>\n",
       "    <tr>\n",
       "      <th>1</th>\n",
       "      <td>2015-01-02</td>\n",
       "      <td>420</td>\n",
       "      <td>3158</td>\n",
       "      <td>2839</td>\n",
       "      <td>17.2</td>\n",
       "      <td>2216</td>\n",
       "      <td>8611</td>\n",
       "      <td>금</td>\n",
       "      <td>2</td>\n",
       "      <td>1</td>\n",
       "      <td>...</td>\n",
       "      <td>2.4</td>\n",
       "      <td>-9.2</td>\n",
       "      <td>0.0</td>\n",
       "      <td>73.0</td>\n",
       "      <td>37.0</td>\n",
       "      <td>8.66</td>\n",
       "      <td>Winter</td>\n",
       "      <td>0.0</td>\n",
       "      <td>NaN</td>\n",
       "      <td>89.898670</td>\n",
       "    </tr>\n",
       "    <tr>\n",
       "      <th>2</th>\n",
       "      <td>2015-01-03</td>\n",
       "      <td>209</td>\n",
       "      <td>1648</td>\n",
       "      <td>1514</td>\n",
       "      <td>26.2</td>\n",
       "      <td>2377</td>\n",
       "      <td>10198</td>\n",
       "      <td>토</td>\n",
       "      <td>3</td>\n",
       "      <td>1</td>\n",
       "      <td>...</td>\n",
       "      <td>8.2</td>\n",
       "      <td>0.2</td>\n",
       "      <td>0.0</td>\n",
       "      <td>89.0</td>\n",
       "      <td>58.0</td>\n",
       "      <td>5.32</td>\n",
       "      <td>Winter</td>\n",
       "      <td>0.0</td>\n",
       "      <td>NaN</td>\n",
       "      <td>91.868932</td>\n",
       "    </tr>\n",
       "    <tr>\n",
       "      <th>3</th>\n",
       "      <td>2015-01-04</td>\n",
       "      <td>196</td>\n",
       "      <td>1646</td>\n",
       "      <td>1526</td>\n",
       "      <td>24.5</td>\n",
       "      <td>2431</td>\n",
       "      <td>10955</td>\n",
       "      <td>일</td>\n",
       "      <td>4</td>\n",
       "      <td>1</td>\n",
       "      <td>...</td>\n",
       "      <td>7.9</td>\n",
       "      <td>-0.9</td>\n",
       "      <td>0.0</td>\n",
       "      <td>95.0</td>\n",
       "      <td>52.0</td>\n",
       "      <td>6.48</td>\n",
       "      <td>Winter</td>\n",
       "      <td>0.0</td>\n",
       "      <td>NaN</td>\n",
       "      <td>92.709599</td>\n",
       "    </tr>\n",
       "    <tr>\n",
       "      <th>4</th>\n",
       "      <td>2015-01-05</td>\n",
       "      <td>421</td>\n",
       "      <td>4250</td>\n",
       "      <td>3730</td>\n",
       "      <td>26.2</td>\n",
       "      <td>2214</td>\n",
       "      <td>8663</td>\n",
       "      <td>월</td>\n",
       "      <td>5</td>\n",
       "      <td>1</td>\n",
       "      <td>...</td>\n",
       "      <td>4.1</td>\n",
       "      <td>-7.4</td>\n",
       "      <td>3.4</td>\n",
       "      <td>98.0</td>\n",
       "      <td>29.0</td>\n",
       "      <td>10.47</td>\n",
       "      <td>Winter</td>\n",
       "      <td>0.0</td>\n",
       "      <td>NaN</td>\n",
       "      <td>87.764706</td>\n",
       "    </tr>\n",
       "  </tbody>\n",
       "</table>\n",
       "<p>5 rows × 21 columns</p>\n",
       "</div>"
      ],
      "text/plain": [
       "        date  drive  call_num  ride_num  waiting_time   fee    dis weekday  \\\n",
       "0 2015-01-01    213      1023       924          23.2  2427  10764       목   \n",
       "1 2015-01-02    420      3158      2839          17.2  2216   8611       금   \n",
       "2 2015-01-03    209      1648      1514          26.2  2377  10198       토   \n",
       "3 2015-01-04    196      1646      1526          24.5  2431  10955       일   \n",
       "4 2015-01-05    421      4250      3730          26.2  2214   8663       월   \n",
       "\n",
       "   day  month  ...  temp_max  temp_min  rain(mm)  humidity_max(%)  \\\n",
       "0    1      1  ...      -2.0      -8.9       0.0             63.0   \n",
       "1    2      1  ...       2.4      -9.2       0.0             73.0   \n",
       "2    3      1  ...       8.2       0.2       0.0             89.0   \n",
       "3    4      1  ...       7.9      -0.9       0.0             95.0   \n",
       "4    5      1  ...       4.1      -7.4       3.4             98.0   \n",
       "\n",
       "   humidity_min(%)  sunshine(MJ/m2)  season holiday  7_day_avg_waiting_time  \\\n",
       "0             28.0             9.07  Winter     1.0                     NaN   \n",
       "1             37.0             8.66  Winter     0.0                     NaN   \n",
       "2             58.0             5.32  Winter     0.0                     NaN   \n",
       "3             52.0             6.48  Winter     0.0                     NaN   \n",
       "4             29.0            10.47  Winter     0.0                     NaN   \n",
       "\n",
       "   ride_num/call_num  \n",
       "0          90.322581  \n",
       "1          89.898670  \n",
       "2          91.868932  \n",
       "3          92.709599  \n",
       "4          87.764706  \n",
       "\n",
       "[5 rows x 21 columns]"
      ]
     },
     "execution_count": 18,
     "metadata": {},
     "output_type": "execute_result"
    }
   ],
   "source": [
    "# 아래에 실습코드를 작성하고 결과를 확인합니다.\n",
    "data_modi['ride_num/call_num'] = data_modi['ride_num'] / data_modi['call_num'] * 100\n",
    "data_modi.head()"
   ]
  },
  {
   "cell_type": "markdown",
   "metadata": {
    "id": "_xX5H9wZPuv9"
   },
   "source": [
    "## 4.데이터 저장\n",
    "* **세부요구사항**\n",
    "    * joblib 을 사용하여 작업 경로에 정리한 데이터프레임을 저장합니다.\n",
    "        * 저장파일이름 : data1.pkl"
   ]
  },
  {
   "cell_type": "code",
   "execution_count": 19,
   "metadata": {
    "colab": {
     "base_uri": "https://localhost:8080/"
    },
    "executionInfo": {
     "elapsed": 29,
     "status": "ok",
     "timestamp": 1682643029614,
     "user": {
      "displayName": "한기영",
      "userId": "13049187003176135487"
     },
     "user_tz": -540
    },
    "id": "DAPll27LPltQ",
    "outputId": "3e23dc30-dee4-4609-e194-22e2c9f794a6"
   },
   "outputs": [
    {
     "data": {
      "text/plain": [
       "['data1.pkl']"
      ]
     },
     "execution_count": 19,
     "metadata": {},
     "output_type": "execute_result"
    }
   ],
   "source": [
    "# 아래에 실습코드를 작성하고 결과를 확인합니다.\n",
    "import joblib\n",
    "joblib.dump(data_modi, 'data1.pkl')"
   ]
  }
 ],
 "metadata": {
  "colab": {
   "collapsed_sections": [
    "VeG-i_RdqhNA",
    "CwSb2GuKuw3B"
   ],
   "provenance": [],
   "toc_visible": true
  },
  "kernelspec": {
   "display_name": "Python 3 (ipykernel)",
   "language": "python",
   "name": "python3"
  },
  "language_info": {
   "codemirror_mode": {
    "name": "ipython",
    "version": 3
   },
   "file_extension": ".py",
   "mimetype": "text/x-python",
   "name": "python",
   "nbconvert_exporter": "python",
   "pygments_lexer": "ipython3",
   "version": "3.11.7"
  }
 },
 "nbformat": 4,
 "nbformat_minor": 4
}
